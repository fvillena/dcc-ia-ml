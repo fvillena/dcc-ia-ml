{
 "cells": [
  {
   "cell_type": "markdown",
   "metadata": {},
   "source": [
    "# Validación Cruzada"
   ]
  },
  {
   "cell_type": "markdown",
   "metadata": {},
   "source": [
    "Para poder evaluar el rendimiento de un conjunto de datos disminuyendo el sesgo de selección del conjunto de datos de entrenamiento, podemos realizar una serie de particiones del conjunto de datos para así obtener un rendimiento promedio de nuestro método al utilizar distintos conjuntos de entrenamiento y prueba. Esto también nos permite aplicar pruebas estadísticas a nuestras métricas y así poder seleccionar el mejor modelo con mayor certeza."
   ]
  },
  {
   "cell_type": "code",
   "execution_count": 1,
   "metadata": {},
   "outputs": [],
   "source": [
    "import pandas as pd\n",
    "import numpy as np\n",
    "import sklearn.preprocessing\n",
    "import sklearn.model_selection # Validación cruzada\n",
    "import sklearn.linear_model\n",
    "import sklearn.tree\n",
    "import sklearn.neural_network # Perceptrón multicapa\n",
    "import sklearn.svm\n",
    "import sklearn.dummy\n",
    "import scipy.stats # Prueba estadística\n",
    "import matplotlib.pyplot as plt"
   ]
  },
  {
   "cell_type": "code",
   "execution_count": 2,
   "metadata": {},
   "outputs": [],
   "source": [
    "np.random.seed(11) # Establecemos la semilla para el generador de números aleatorios"
   ]
  },
  {
   "cell_type": "markdown",
   "metadata": {},
   "source": [
    "Importamos un conjunto de datos que contiene datos extraidos de una encuesta en donde se busca inferir el género de la persona en función de un grupo de características."
   ]
  },
  {
   "cell_type": "code",
   "execution_count": 3,
   "metadata": {},
   "outputs": [],
   "source": [
    "gender = pd.read_csv(\"data/gender.csv\")"
   ]
  },
  {
   "cell_type": "markdown",
   "metadata": {},
   "source": [
    "Verificamos que las características son del tipo discretas."
   ]
  },
  {
   "cell_type": "code",
   "execution_count": 4,
   "metadata": {},
   "outputs": [
    {
     "data": {
      "text/html": [
       "<div>\n",
       "<style scoped>\n",
       "    .dataframe tbody tr th:only-of-type {\n",
       "        vertical-align: middle;\n",
       "    }\n",
       "\n",
       "    .dataframe tbody tr th {\n",
       "        vertical-align: top;\n",
       "    }\n",
       "\n",
       "    .dataframe thead th {\n",
       "        text-align: right;\n",
       "    }\n",
       "</style>\n",
       "<table border=\"1\" class=\"dataframe\">\n",
       "  <thead>\n",
       "    <tr style=\"text-align: right;\">\n",
       "      <th></th>\n",
       "      <th>Favorite Color</th>\n",
       "      <th>Favorite Music Genre</th>\n",
       "      <th>Favorite Beverage</th>\n",
       "      <th>Favorite Soft Drink</th>\n",
       "      <th>Gender</th>\n",
       "    </tr>\n",
       "  </thead>\n",
       "  <tbody>\n",
       "    <tr>\n",
       "      <td>0</td>\n",
       "      <td>Cool</td>\n",
       "      <td>Rock</td>\n",
       "      <td>Vodka</td>\n",
       "      <td>7UP/Sprite</td>\n",
       "      <td>F</td>\n",
       "    </tr>\n",
       "    <tr>\n",
       "      <td>1</td>\n",
       "      <td>Neutral</td>\n",
       "      <td>Hip hop</td>\n",
       "      <td>Vodka</td>\n",
       "      <td>Coca Cola/Pepsi</td>\n",
       "      <td>F</td>\n",
       "    </tr>\n",
       "    <tr>\n",
       "      <td>2</td>\n",
       "      <td>Warm</td>\n",
       "      <td>Rock</td>\n",
       "      <td>Wine</td>\n",
       "      <td>Coca Cola/Pepsi</td>\n",
       "      <td>F</td>\n",
       "    </tr>\n",
       "    <tr>\n",
       "      <td>3</td>\n",
       "      <td>Warm</td>\n",
       "      <td>Folk/Traditional</td>\n",
       "      <td>Whiskey</td>\n",
       "      <td>Fanta</td>\n",
       "      <td>F</td>\n",
       "    </tr>\n",
       "    <tr>\n",
       "      <td>4</td>\n",
       "      <td>Cool</td>\n",
       "      <td>Rock</td>\n",
       "      <td>Vodka</td>\n",
       "      <td>Coca Cola/Pepsi</td>\n",
       "      <td>F</td>\n",
       "    </tr>\n",
       "  </tbody>\n",
       "</table>\n",
       "</div>"
      ],
      "text/plain": [
       "  Favorite Color Favorite Music Genre Favorite Beverage Favorite Soft Drink  \\\n",
       "0           Cool                 Rock             Vodka          7UP/Sprite   \n",
       "1        Neutral              Hip hop             Vodka     Coca Cola/Pepsi   \n",
       "2           Warm                 Rock              Wine     Coca Cola/Pepsi   \n",
       "3           Warm     Folk/Traditional           Whiskey               Fanta   \n",
       "4           Cool                 Rock             Vodka     Coca Cola/Pepsi   \n",
       "\n",
       "  Gender  \n",
       "0      F  \n",
       "1      F  \n",
       "2      F  \n",
       "3      F  \n",
       "4      F  "
      ]
     },
     "execution_count": 4,
     "metadata": {},
     "output_type": "execute_result"
    }
   ],
   "source": [
    "gender.head()"
   ]
  },
  {
   "cell_type": "markdown",
   "metadata": {},
   "source": [
    "Exploramos cómo se distribuyen las características."
   ]
  },
  {
   "cell_type": "code",
   "execution_count": 5,
   "metadata": {},
   "outputs": [
    {
     "data": {
      "text/html": [
       "<div>\n",
       "<style scoped>\n",
       "    .dataframe tbody tr th:only-of-type {\n",
       "        vertical-align: middle;\n",
       "    }\n",
       "\n",
       "    .dataframe tbody tr th {\n",
       "        vertical-align: top;\n",
       "    }\n",
       "\n",
       "    .dataframe thead th {\n",
       "        text-align: right;\n",
       "    }\n",
       "</style>\n",
       "<table border=\"1\" class=\"dataframe\">\n",
       "  <thead>\n",
       "    <tr style=\"text-align: right;\">\n",
       "      <th></th>\n",
       "      <th>Favorite Color</th>\n",
       "      <th>Favorite Music Genre</th>\n",
       "      <th>Favorite Beverage</th>\n",
       "      <th>Favorite Soft Drink</th>\n",
       "      <th>Gender</th>\n",
       "    </tr>\n",
       "  </thead>\n",
       "  <tbody>\n",
       "    <tr>\n",
       "      <td>count</td>\n",
       "      <td>66</td>\n",
       "      <td>66</td>\n",
       "      <td>66</td>\n",
       "      <td>66</td>\n",
       "      <td>66</td>\n",
       "    </tr>\n",
       "    <tr>\n",
       "      <td>unique</td>\n",
       "      <td>3</td>\n",
       "      <td>7</td>\n",
       "      <td>6</td>\n",
       "      <td>4</td>\n",
       "      <td>2</td>\n",
       "    </tr>\n",
       "    <tr>\n",
       "      <td>top</td>\n",
       "      <td>Cool</td>\n",
       "      <td>Rock</td>\n",
       "      <td>Doesn't drink</td>\n",
       "      <td>Coca Cola/Pepsi</td>\n",
       "      <td>M</td>\n",
       "    </tr>\n",
       "    <tr>\n",
       "      <td>freq</td>\n",
       "      <td>37</td>\n",
       "      <td>19</td>\n",
       "      <td>14</td>\n",
       "      <td>32</td>\n",
       "      <td>33</td>\n",
       "    </tr>\n",
       "  </tbody>\n",
       "</table>\n",
       "</div>"
      ],
      "text/plain": [
       "       Favorite Color Favorite Music Genre Favorite Beverage  \\\n",
       "count              66                   66                66   \n",
       "unique              3                    7                 6   \n",
       "top              Cool                 Rock     Doesn't drink   \n",
       "freq               37                   19                14   \n",
       "\n",
       "       Favorite Soft Drink Gender  \n",
       "count                   66     66  \n",
       "unique                   4      2  \n",
       "top        Coca Cola/Pepsi      M  \n",
       "freq                    32     33  "
      ]
     },
     "execution_count": 5,
     "metadata": {},
     "output_type": "execute_result"
    }
   ],
   "source": [
    "gender.describe()"
   ]
  },
  {
   "cell_type": "markdown",
   "metadata": {},
   "source": [
    "## Preprocesamiento"
   ]
  },
  {
   "cell_type": "code",
   "execution_count": 6,
   "metadata": {},
   "outputs": [],
   "source": [
    "features = gender.iloc[:,:-1] # Seleccionamos sólo las características del conjunto de datos\n",
    "label = gender[\"Gender\"] # Seleccionamos la etiqueta del conjunto de datos"
   ]
  },
  {
   "cell_type": "markdown",
   "metadata": {},
   "source": [
    "Para poder entrenar nuestros modelos debemos transformar nuestras características a una representación vectorial. Para esto utilizamos el método One-Hot Encoding, el cual transforma cada característica en un vector de largo del número de categorías, este vector tiene un 1 en la posición de la categoría asociada a ese ejemplo."
   ]
  },
  {
   "cell_type": "code",
   "execution_count": 7,
   "metadata": {},
   "outputs": [
    {
     "data": {
      "text/html": [
       "<div>\n",
       "<style scoped>\n",
       "    .dataframe tbody tr th:only-of-type {\n",
       "        vertical-align: middle;\n",
       "    }\n",
       "\n",
       "    .dataframe tbody tr th {\n",
       "        vertical-align: top;\n",
       "    }\n",
       "\n",
       "    .dataframe thead th {\n",
       "        text-align: right;\n",
       "    }\n",
       "</style>\n",
       "<table border=\"1\" class=\"dataframe\">\n",
       "  <thead>\n",
       "    <tr style=\"text-align: right;\">\n",
       "      <th></th>\n",
       "      <th>x0_Cool</th>\n",
       "      <th>x0_Neutral</th>\n",
       "      <th>x0_Warm</th>\n",
       "      <th>x1_Electronic</th>\n",
       "      <th>x1_Folk/Traditional</th>\n",
       "      <th>x1_Hip hop</th>\n",
       "      <th>x1_Jazz/Blues</th>\n",
       "      <th>x1_Pop</th>\n",
       "      <th>x1_R&amp;B and soul</th>\n",
       "      <th>x1_Rock</th>\n",
       "      <th>x2_Beer</th>\n",
       "      <th>x2_Doesn't drink</th>\n",
       "      <th>x2_Other</th>\n",
       "      <th>x2_Vodka</th>\n",
       "      <th>x2_Whiskey</th>\n",
       "      <th>x2_Wine</th>\n",
       "      <th>x3_7UP/Sprite</th>\n",
       "      <th>x3_Coca Cola/Pepsi</th>\n",
       "      <th>x3_Fanta</th>\n",
       "      <th>x3_Other</th>\n",
       "    </tr>\n",
       "  </thead>\n",
       "  <tbody>\n",
       "    <tr>\n",
       "      <td>0</td>\n",
       "      <td>1.0</td>\n",
       "      <td>0.0</td>\n",
       "      <td>0.0</td>\n",
       "      <td>0.0</td>\n",
       "      <td>0.0</td>\n",
       "      <td>0.0</td>\n",
       "      <td>0.0</td>\n",
       "      <td>0.0</td>\n",
       "      <td>0.0</td>\n",
       "      <td>1.0</td>\n",
       "      <td>0.0</td>\n",
       "      <td>0.0</td>\n",
       "      <td>0.0</td>\n",
       "      <td>1.0</td>\n",
       "      <td>0.0</td>\n",
       "      <td>0.0</td>\n",
       "      <td>1.0</td>\n",
       "      <td>0.0</td>\n",
       "      <td>0.0</td>\n",
       "      <td>0.0</td>\n",
       "    </tr>\n",
       "    <tr>\n",
       "      <td>1</td>\n",
       "      <td>0.0</td>\n",
       "      <td>1.0</td>\n",
       "      <td>0.0</td>\n",
       "      <td>0.0</td>\n",
       "      <td>0.0</td>\n",
       "      <td>1.0</td>\n",
       "      <td>0.0</td>\n",
       "      <td>0.0</td>\n",
       "      <td>0.0</td>\n",
       "      <td>0.0</td>\n",
       "      <td>0.0</td>\n",
       "      <td>0.0</td>\n",
       "      <td>0.0</td>\n",
       "      <td>1.0</td>\n",
       "      <td>0.0</td>\n",
       "      <td>0.0</td>\n",
       "      <td>0.0</td>\n",
       "      <td>1.0</td>\n",
       "      <td>0.0</td>\n",
       "      <td>0.0</td>\n",
       "    </tr>\n",
       "    <tr>\n",
       "      <td>2</td>\n",
       "      <td>0.0</td>\n",
       "      <td>0.0</td>\n",
       "      <td>1.0</td>\n",
       "      <td>0.0</td>\n",
       "      <td>0.0</td>\n",
       "      <td>0.0</td>\n",
       "      <td>0.0</td>\n",
       "      <td>0.0</td>\n",
       "      <td>0.0</td>\n",
       "      <td>1.0</td>\n",
       "      <td>0.0</td>\n",
       "      <td>0.0</td>\n",
       "      <td>0.0</td>\n",
       "      <td>0.0</td>\n",
       "      <td>0.0</td>\n",
       "      <td>1.0</td>\n",
       "      <td>0.0</td>\n",
       "      <td>1.0</td>\n",
       "      <td>0.0</td>\n",
       "      <td>0.0</td>\n",
       "    </tr>\n",
       "    <tr>\n",
       "      <td>3</td>\n",
       "      <td>0.0</td>\n",
       "      <td>0.0</td>\n",
       "      <td>1.0</td>\n",
       "      <td>0.0</td>\n",
       "      <td>1.0</td>\n",
       "      <td>0.0</td>\n",
       "      <td>0.0</td>\n",
       "      <td>0.0</td>\n",
       "      <td>0.0</td>\n",
       "      <td>0.0</td>\n",
       "      <td>0.0</td>\n",
       "      <td>0.0</td>\n",
       "      <td>0.0</td>\n",
       "      <td>0.0</td>\n",
       "      <td>1.0</td>\n",
       "      <td>0.0</td>\n",
       "      <td>0.0</td>\n",
       "      <td>0.0</td>\n",
       "      <td>1.0</td>\n",
       "      <td>0.0</td>\n",
       "    </tr>\n",
       "    <tr>\n",
       "      <td>4</td>\n",
       "      <td>1.0</td>\n",
       "      <td>0.0</td>\n",
       "      <td>0.0</td>\n",
       "      <td>0.0</td>\n",
       "      <td>0.0</td>\n",
       "      <td>0.0</td>\n",
       "      <td>0.0</td>\n",
       "      <td>0.0</td>\n",
       "      <td>0.0</td>\n",
       "      <td>1.0</td>\n",
       "      <td>0.0</td>\n",
       "      <td>0.0</td>\n",
       "      <td>0.0</td>\n",
       "      <td>1.0</td>\n",
       "      <td>0.0</td>\n",
       "      <td>0.0</td>\n",
       "      <td>0.0</td>\n",
       "      <td>1.0</td>\n",
       "      <td>0.0</td>\n",
       "      <td>0.0</td>\n",
       "    </tr>\n",
       "    <tr>\n",
       "      <td>...</td>\n",
       "      <td>...</td>\n",
       "      <td>...</td>\n",
       "      <td>...</td>\n",
       "      <td>...</td>\n",
       "      <td>...</td>\n",
       "      <td>...</td>\n",
       "      <td>...</td>\n",
       "      <td>...</td>\n",
       "      <td>...</td>\n",
       "      <td>...</td>\n",
       "      <td>...</td>\n",
       "      <td>...</td>\n",
       "      <td>...</td>\n",
       "      <td>...</td>\n",
       "      <td>...</td>\n",
       "      <td>...</td>\n",
       "      <td>...</td>\n",
       "      <td>...</td>\n",
       "      <td>...</td>\n",
       "      <td>...</td>\n",
       "    </tr>\n",
       "    <tr>\n",
       "      <td>61</td>\n",
       "      <td>1.0</td>\n",
       "      <td>0.0</td>\n",
       "      <td>0.0</td>\n",
       "      <td>0.0</td>\n",
       "      <td>0.0</td>\n",
       "      <td>0.0</td>\n",
       "      <td>0.0</td>\n",
       "      <td>0.0</td>\n",
       "      <td>0.0</td>\n",
       "      <td>1.0</td>\n",
       "      <td>0.0</td>\n",
       "      <td>0.0</td>\n",
       "      <td>0.0</td>\n",
       "      <td>1.0</td>\n",
       "      <td>0.0</td>\n",
       "      <td>0.0</td>\n",
       "      <td>0.0</td>\n",
       "      <td>1.0</td>\n",
       "      <td>0.0</td>\n",
       "      <td>0.0</td>\n",
       "    </tr>\n",
       "    <tr>\n",
       "      <td>62</td>\n",
       "      <td>1.0</td>\n",
       "      <td>0.0</td>\n",
       "      <td>0.0</td>\n",
       "      <td>0.0</td>\n",
       "      <td>0.0</td>\n",
       "      <td>1.0</td>\n",
       "      <td>0.0</td>\n",
       "      <td>0.0</td>\n",
       "      <td>0.0</td>\n",
       "      <td>0.0</td>\n",
       "      <td>1.0</td>\n",
       "      <td>0.0</td>\n",
       "      <td>0.0</td>\n",
       "      <td>0.0</td>\n",
       "      <td>0.0</td>\n",
       "      <td>0.0</td>\n",
       "      <td>0.0</td>\n",
       "      <td>1.0</td>\n",
       "      <td>0.0</td>\n",
       "      <td>0.0</td>\n",
       "    </tr>\n",
       "    <tr>\n",
       "      <td>63</td>\n",
       "      <td>0.0</td>\n",
       "      <td>1.0</td>\n",
       "      <td>0.0</td>\n",
       "      <td>0.0</td>\n",
       "      <td>0.0</td>\n",
       "      <td>1.0</td>\n",
       "      <td>0.0</td>\n",
       "      <td>0.0</td>\n",
       "      <td>0.0</td>\n",
       "      <td>0.0</td>\n",
       "      <td>0.0</td>\n",
       "      <td>1.0</td>\n",
       "      <td>0.0</td>\n",
       "      <td>0.0</td>\n",
       "      <td>0.0</td>\n",
       "      <td>0.0</td>\n",
       "      <td>0.0</td>\n",
       "      <td>0.0</td>\n",
       "      <td>1.0</td>\n",
       "      <td>0.0</td>\n",
       "    </tr>\n",
       "    <tr>\n",
       "      <td>64</td>\n",
       "      <td>1.0</td>\n",
       "      <td>0.0</td>\n",
       "      <td>0.0</td>\n",
       "      <td>0.0</td>\n",
       "      <td>0.0</td>\n",
       "      <td>0.0</td>\n",
       "      <td>0.0</td>\n",
       "      <td>0.0</td>\n",
       "      <td>0.0</td>\n",
       "      <td>1.0</td>\n",
       "      <td>0.0</td>\n",
       "      <td>0.0</td>\n",
       "      <td>0.0</td>\n",
       "      <td>0.0</td>\n",
       "      <td>0.0</td>\n",
       "      <td>1.0</td>\n",
       "      <td>0.0</td>\n",
       "      <td>1.0</td>\n",
       "      <td>0.0</td>\n",
       "      <td>0.0</td>\n",
       "    </tr>\n",
       "    <tr>\n",
       "      <td>65</td>\n",
       "      <td>1.0</td>\n",
       "      <td>0.0</td>\n",
       "      <td>0.0</td>\n",
       "      <td>1.0</td>\n",
       "      <td>0.0</td>\n",
       "      <td>0.0</td>\n",
       "      <td>0.0</td>\n",
       "      <td>0.0</td>\n",
       "      <td>0.0</td>\n",
       "      <td>0.0</td>\n",
       "      <td>1.0</td>\n",
       "      <td>0.0</td>\n",
       "      <td>0.0</td>\n",
       "      <td>0.0</td>\n",
       "      <td>0.0</td>\n",
       "      <td>0.0</td>\n",
       "      <td>0.0</td>\n",
       "      <td>1.0</td>\n",
       "      <td>0.0</td>\n",
       "      <td>0.0</td>\n",
       "    </tr>\n",
       "  </tbody>\n",
       "</table>\n",
       "<p>66 rows × 20 columns</p>\n",
       "</div>"
      ],
      "text/plain": [
       "    x0_Cool  x0_Neutral  x0_Warm  x1_Electronic  x1_Folk/Traditional  \\\n",
       "0       1.0         0.0      0.0            0.0                  0.0   \n",
       "1       0.0         1.0      0.0            0.0                  0.0   \n",
       "2       0.0         0.0      1.0            0.0                  0.0   \n",
       "3       0.0         0.0      1.0            0.0                  1.0   \n",
       "4       1.0         0.0      0.0            0.0                  0.0   \n",
       "..      ...         ...      ...            ...                  ...   \n",
       "61      1.0         0.0      0.0            0.0                  0.0   \n",
       "62      1.0         0.0      0.0            0.0                  0.0   \n",
       "63      0.0         1.0      0.0            0.0                  0.0   \n",
       "64      1.0         0.0      0.0            0.0                  0.0   \n",
       "65      1.0         0.0      0.0            1.0                  0.0   \n",
       "\n",
       "    x1_Hip hop  x1_Jazz/Blues  x1_Pop  x1_R&B and soul  x1_Rock  x2_Beer  \\\n",
       "0          0.0            0.0     0.0              0.0      1.0      0.0   \n",
       "1          1.0            0.0     0.0              0.0      0.0      0.0   \n",
       "2          0.0            0.0     0.0              0.0      1.0      0.0   \n",
       "3          0.0            0.0     0.0              0.0      0.0      0.0   \n",
       "4          0.0            0.0     0.0              0.0      1.0      0.0   \n",
       "..         ...            ...     ...              ...      ...      ...   \n",
       "61         0.0            0.0     0.0              0.0      1.0      0.0   \n",
       "62         1.0            0.0     0.0              0.0      0.0      1.0   \n",
       "63         1.0            0.0     0.0              0.0      0.0      0.0   \n",
       "64         0.0            0.0     0.0              0.0      1.0      0.0   \n",
       "65         0.0            0.0     0.0              0.0      0.0      1.0   \n",
       "\n",
       "    x2_Doesn't drink  x2_Other  x2_Vodka  x2_Whiskey  x2_Wine  x3_7UP/Sprite  \\\n",
       "0                0.0       0.0       1.0         0.0      0.0            1.0   \n",
       "1                0.0       0.0       1.0         0.0      0.0            0.0   \n",
       "2                0.0       0.0       0.0         0.0      1.0            0.0   \n",
       "3                0.0       0.0       0.0         1.0      0.0            0.0   \n",
       "4                0.0       0.0       1.0         0.0      0.0            0.0   \n",
       "..               ...       ...       ...         ...      ...            ...   \n",
       "61               0.0       0.0       1.0         0.0      0.0            0.0   \n",
       "62               0.0       0.0       0.0         0.0      0.0            0.0   \n",
       "63               1.0       0.0       0.0         0.0      0.0            0.0   \n",
       "64               0.0       0.0       0.0         0.0      1.0            0.0   \n",
       "65               0.0       0.0       0.0         0.0      0.0            0.0   \n",
       "\n",
       "    x3_Coca Cola/Pepsi  x3_Fanta  x3_Other  \n",
       "0                  0.0       0.0       0.0  \n",
       "1                  1.0       0.0       0.0  \n",
       "2                  1.0       0.0       0.0  \n",
       "3                  0.0       1.0       0.0  \n",
       "4                  1.0       0.0       0.0  \n",
       "..                 ...       ...       ...  \n",
       "61                 1.0       0.0       0.0  \n",
       "62                 1.0       0.0       0.0  \n",
       "63                 0.0       1.0       0.0  \n",
       "64                 1.0       0.0       0.0  \n",
       "65                 1.0       0.0       0.0  \n",
       "\n",
       "[66 rows x 20 columns]"
      ]
     },
     "execution_count": 7,
     "metadata": {},
     "output_type": "execute_result"
    }
   ],
   "source": [
    "enc = sklearn.preprocessing.OneHotEncoder() # Instanciamos nuestro One-Hot Encoder\n",
    "features_transformed = pd.DataFrame(\n",
    "    enc.fit_transform(features).todense(), # Entrenamos nuestro transformador y transformamos las características\n",
    "    columns = enc.get_feature_names()\n",
    ")\n",
    "features_transformed"
   ]
  },
  {
   "cell_type": "code",
   "execution_count": 8,
   "metadata": {},
   "outputs": [
    {
     "data": {
      "text/plain": [
       "Favorite Color                Cool\n",
       "Favorite Music Genre          Rock\n",
       "Favorite Beverage            Vodka\n",
       "Favorite Soft Drink     7UP/Sprite\n",
       "Name: 0, dtype: object"
      ]
     },
     "execution_count": 8,
     "metadata": {},
     "output_type": "execute_result"
    }
   ],
   "source": [
    "features.iloc[0,:]"
   ]
  },
  {
   "cell_type": "markdown",
   "metadata": {},
   "source": [
    "Pasamos de un espacio de 4 características a uno de 20 características."
   ]
  },
  {
   "cell_type": "code",
   "execution_count": 9,
   "metadata": {},
   "outputs": [
    {
     "data": {
      "text/plain": [
       "x0_Cool                1.0\n",
       "x0_Neutral             0.0\n",
       "x0_Warm                0.0\n",
       "x1_Electronic          0.0\n",
       "x1_Folk/Traditional    0.0\n",
       "x1_Hip hop             0.0\n",
       "x1_Jazz/Blues          0.0\n",
       "x1_Pop                 0.0\n",
       "x1_R&B and soul        0.0\n",
       "x1_Rock                1.0\n",
       "x2_Beer                0.0\n",
       "x2_Doesn't drink       0.0\n",
       "x2_Other               0.0\n",
       "x2_Vodka               1.0\n",
       "x2_Whiskey             0.0\n",
       "x2_Wine                0.0\n",
       "x3_7UP/Sprite          1.0\n",
       "x3_Coca Cola/Pepsi     0.0\n",
       "x3_Fanta               0.0\n",
       "x3_Other               0.0\n",
       "Name: 0, dtype: float64"
      ]
     },
     "execution_count": 9,
     "metadata": {},
     "output_type": "execute_result"
    }
   ],
   "source": [
    "features_transformed.iloc[0,:]"
   ]
  },
  {
   "cell_type": "markdown",
   "metadata": {},
   "source": [
    "## Modelamiento"
   ]
  },
  {
   "cell_type": "code",
   "execution_count": 10,
   "metadata": {},
   "outputs": [],
   "source": [
    "def cross_val_score(**kwargs):\n",
    "    \"\"\"\n",
    "    Recibe los argumentos para pasárselos a la función sklearn.model_selection.cross_validate\n",
    "    Retorna una lista con los valores de AUCROC de cada una de las divisiones.\n",
    "    \"\"\"\n",
    "    cv = sklearn.model_selection.cross_validate( # Esta función entrena un modelo para distintos subconjuntos generados al azar.\n",
    "        scoring = 'roc_auc', # Usamos la medida de AUCROC para medir el rendimiento de los modelos\n",
    "        cv = sklearn.model_selection.StratifiedKFold( # La división se realiza de manera estratificada\n",
    "            n_splits = 10, # Creamos 10 subconjuntos\n",
    "            shuffle = True, # Desordenamos los datos antes de dividirlos\n",
    "        ),\n",
    "        n_jobs = None, # Usamos sólo 1 worker para el entrenmiento\n",
    "        **kwargs # Pasamos los argumentos recibidos por la función\n",
    "    )\n",
    "    return cv[\"test_score\"]"
   ]
  },
  {
   "cell_type": "markdown",
   "metadata": {},
   "source": [
    "Guardamos los valores de rendimiento para un conjunto de múltiples algoritmos de clasificación."
   ]
  },
  {
   "cell_type": "code",
   "execution_count": 11,
   "metadata": {},
   "outputs": [
    {
     "data": {
      "text/plain": [
       "array([0.66666667, 0.75      , 0.66666667, 0.5       , 1.        ,\n",
       "       0.33333333, 0.77777778, 0.33333333, 0.44444444, 0.77777778])"
      ]
     },
     "execution_count": 11,
     "metadata": {},
     "output_type": "execute_result"
    }
   ],
   "source": [
    "lr_scores = cross_val_score(\n",
    "    estimator = sklearn.linear_model.LogisticRegression(),\n",
    "    X = features_transformed,\n",
    "    y = label\n",
    ")\n",
    "lr_scores"
   ]
  },
  {
   "cell_type": "code",
   "execution_count": 12,
   "metadata": {},
   "outputs": [
    {
     "data": {
      "text/plain": [
       "array([0.25      , 0.75      , 0.41666667, 0.54166667, 0.875     ,\n",
       "       0.79166667, 0.66666667, 0.83333333, 0.77777778, 0.55555556])"
      ]
     },
     "execution_count": 12,
     "metadata": {},
     "output_type": "execute_result"
    }
   ],
   "source": [
    "tree_scores = cross_val_score(\n",
    "    estimator = sklearn.tree.DecisionTreeClassifier(),\n",
    "    X = features_transformed,\n",
    "    y = label\n",
    ")\n",
    "tree_scores"
   ]
  },
  {
   "cell_type": "code",
   "execution_count": 13,
   "metadata": {},
   "outputs": [
    {
     "data": {
      "text/plain": [
       "array([0.5       , 0.08333333, 0.83333333, 0.5       , 0.33333333,\n",
       "       1.        , 0.55555556, 0.55555556, 0.66666667, 0.88888889])"
      ]
     },
     "execution_count": 13,
     "metadata": {},
     "output_type": "execute_result"
    }
   ],
   "source": [
    "mlp_scores = cross_val_score(\n",
    "    estimator = sklearn.neural_network.MLPClassifier(max_iter=1000),\n",
    "    X = features_transformed,\n",
    "    y = label\n",
    ")\n",
    "mlp_scores"
   ]
  },
  {
   "cell_type": "code",
   "execution_count": 14,
   "metadata": {},
   "outputs": [
    {
     "data": {
      "text/plain": [
       "array([1.        , 0.66666667, 0.75      , 0.33333333, 0.25      ,\n",
       "       0.58333333, 1.        , 0.77777778, 0.66666667, 0.61111111])"
      ]
     },
     "execution_count": 14,
     "metadata": {},
     "output_type": "execute_result"
    }
   ],
   "source": [
    "svm_scores = cross_val_score(\n",
    "    estimator = sklearn.svm.SVC(),\n",
    "    X = features_transformed,\n",
    "    y = label\n",
    ")\n",
    "svm_scores"
   ]
  },
  {
   "cell_type": "code",
   "execution_count": 15,
   "metadata": {},
   "outputs": [
    {
     "data": {
      "text/plain": [
       "array([0.875     , 0.70833333, 0.41666667, 0.70833333, 0.58333333,\n",
       "       0.45833333, 0.33333333, 0.33333333, 0.5       , 0.33333333])"
      ]
     },
     "execution_count": 15,
     "metadata": {},
     "output_type": "execute_result"
    }
   ],
   "source": [
    "dummy_scores = cross_val_score(\n",
    "    estimator = sklearn.dummy.DummyClassifier(strategy=\"stratified\"),\n",
    "    X = features_transformed,\n",
    "    y = label\n",
    ")\n",
    "dummy_scores"
   ]
  },
  {
   "cell_type": "markdown",
   "metadata": {},
   "source": [
    "## Conclusión"
   ]
  },
  {
   "cell_type": "code",
   "execution_count": 16,
   "metadata": {},
   "outputs": [],
   "source": [
    "scores = [ # Guardamos todos los resultados en una lista\n",
    "    lr_scores,\n",
    "    tree_scores,\n",
    "    mlp_scores,\n",
    "    svm_scores,\n",
    "    dummy_scores\n",
    "]\n",
    "names = [\n",
    "    \"Logistic Regression\",\n",
    "    \"Decision Tree\",\n",
    "    \"Multilayer Perceptron\",\n",
    "    \"Support Vector Machine\",\n",
    "    \"Dummy Classifier\"\n",
    "]"
   ]
  },
  {
   "cell_type": "markdown",
   "metadata": {},
   "source": [
    "Con esta visualización podemos ver la distribución de resultados para cada uno de los algoritmos seleccionados."
   ]
  },
  {
   "cell_type": "code",
   "execution_count": 17,
   "metadata": {},
   "outputs": [
    {
     "data": {
      "image/png": "[encoded data removed]",
      "text/plain": [
       "<Figure size 432x288 with 1 Axes>"
      ]
     },
     "metadata": {
      "needs_background": "light"
     },
     "output_type": "display_data"
    }
   ],
   "source": [
    "plt.boxplot(\n",
    "    scores,\n",
    "    labels = names\n",
    ")\n",
    "plt.xticks(rotation=45)\n",
    "plt.show()"
   ]
  },
  {
   "cell_type": "markdown",
   "metadata": {},
   "source": [
    "Extraemos el resultado promedio de cada uno de los algoritmos. Al parecer, según una estimación puntual, SVM es el algoritmo que mejor se comporta."
   ]
  },
  {
   "cell_type": "code",
   "execution_count": 18,
   "metadata": {},
   "outputs": [
    {
     "data": {
      "text/plain": [
       "{'Logistic Regression': 0.625,\n",
       " 'Decision Tree': 0.6458333333333333,\n",
       " 'Multilayer Perceptron': 0.5916666666666667,\n",
       " 'Support Vector Machine': 0.663888888888889,\n",
       " 'Dummy Classifier': 0.525}"
      ]
     },
     "execution_count": 18,
     "metadata": {},
     "output_type": "execute_result"
    }
   ],
   "source": [
    "dict(\n",
    "    zip(\n",
    "        names,\n",
    "        map(\n",
    "            np.mean,\n",
    "            scores\n",
    "        )\n",
    "    )\n",
    ")"
   ]
  },
  {
   "cell_type": "markdown",
   "metadata": {},
   "source": [
    "Para verificar si la diferencia entre las medias de los resultados es estadísticamente significativa utilizamos una prueba de ANOVA.\n",
    "No existen diferencias estadísticamente significativas entre cada uno de los algoritmos."
   ]
  },
  {
   "cell_type": "code",
   "execution_count": 19,
   "metadata": {},
   "outputs": [
    {
     "data": {
      "text/plain": [
       "F_onewayResult(statistic=0.5829889548425878, pvalue=0.6765294405020901)"
      ]
     },
     "execution_count": 19,
     "metadata": {},
     "output_type": "execute_result"
    }
   ],
   "source": [
    "scipy.stats.f_oneway(*scores)"
   ]
  }
 ],
 "metadata": {
  "kernelspec": {
   "display_name": "Python 3",
   "language": "python",
   "name": "python3"
  },
  "language_info": {
   "codemirror_mode": {
    "name": "ipython",
    "version": 3
   },
   "file_extension": ".py",
   "mimetype": "text/x-python",
   "name": "python",
   "nbconvert_exporter": "python",
   "pygments_lexer": "ipython3",
   "version": "3.7.4"
  }
 },
 "nbformat": 4,
 "nbformat_minor": 4
}
