{
 "cells": [
  {
   "cell_type": "markdown",
   "metadata": {},
   "source": [
    "# Escalamiento"
   ]
  },
  {
   "cell_type": "markdown",
   "metadata": {},
   "source": [
    "El escalamiento típicamente varia los resultados de manera significativa al utilizar ciertos algoritmos de aprendizaje de máquinas. Algunos algoritmos utilizan distancias entre puntos de datos para establecer sus cálculos y por esta razón es que los resultados se pueden sesgar al entrenar sobre conjuntos de datos en donde los rangos de las variables varian entre si. Exploraremos algunos métodos para escalar variables y veremos como afectan a un par de algoritmos de entrenamiento de modelos."
   ]
  },
  {
   "cell_type": "code",
   "execution_count": 1,
   "metadata": {},
   "outputs": [],
   "source": [
    "import numpy as np\n",
    "import pandas as pd\n",
    "import sklearn.preprocessing # Módulo donde están las  herramientas para el escalamiento de las variables\n",
    "import sklearn.neighbors # Utilizaremos un regresor basado en KNN\n",
    "import sklearn.tree # Métodos basados en árboles\n",
    "import matplotlib.pyplot as plt\n",
    "import seaborn as sns # Biblioteca de visualización programada sobre matplotlib"
   ]
  },
  {
   "cell_type": "markdown",
   "metadata": {},
   "source": [
    "Resolveremos una tarea de regresión al predecir el valor de una propiedad desde algunos atributos de la misma."
   ]
  },
  {
   "cell_type": "code",
   "execution_count": 2,
   "metadata": {},
   "outputs": [],
   "source": [
    "real_estate = pd.read_csv(\"data/real_estate.csv\", delimiter=\";\")"
   ]
  },
  {
   "cell_type": "code",
   "execution_count": 3,
   "metadata": {},
   "outputs": [],
   "source": [
    "feature_names = [\n",
    "    'transaction_date', \n",
    "    'house_age', \n",
    "    'distance_nearest_station', \n",
    "    'number_convenience_stores', \n",
    "    'latitude', \n",
    "    'longitude'\n",
    "]\n",
    "\n",
    "features = real_estate[feature_names]"
   ]
  },
  {
   "cell_type": "code",
   "execution_count": 4,
   "metadata": {},
   "outputs": [],
   "source": [
    "label = real_estate.price_unit_area"
   ]
  },
  {
   "cell_type": "markdown",
   "metadata": {},
   "source": [
    "## Datos crudos"
   ]
  },
  {
   "cell_type": "markdown",
   "metadata": {},
   "source": [
    "Se puede observar que las distintas variables se encuentran en rangos muy distintos."
   ]
  },
  {
   "cell_type": "code",
   "execution_count": 5,
   "metadata": {},
   "outputs": [
    {
     "data": {
      "text/html": [
       "<div>\n",
       "<style scoped>\n",
       "    .dataframe tbody tr th:only-of-type {\n",
       "        vertical-align: middle;\n",
       "    }\n",
       "\n",
       "    .dataframe tbody tr th {\n",
       "        vertical-align: top;\n",
       "    }\n",
       "\n",
       "    .dataframe thead th {\n",
       "        text-align: right;\n",
       "    }\n",
       "</style>\n",
       "<table border=\"1\" class=\"dataframe\">\n",
       "  <thead>\n",
       "    <tr style=\"text-align: right;\">\n",
       "      <th></th>\n",
       "      <th>transaction_date</th>\n",
       "      <th>house_age</th>\n",
       "      <th>distance_nearest_station</th>\n",
       "      <th>number_convenience_stores</th>\n",
       "      <th>latitude</th>\n",
       "      <th>longitude</th>\n",
       "    </tr>\n",
       "  </thead>\n",
       "  <tbody>\n",
       "    <tr>\n",
       "      <th>count</th>\n",
       "      <td>414.000000</td>\n",
       "      <td>414.000000</td>\n",
       "      <td>414.000000</td>\n",
       "      <td>414.000000</td>\n",
       "      <td>414.000000</td>\n",
       "      <td>414.000000</td>\n",
       "    </tr>\n",
       "    <tr>\n",
       "      <th>mean</th>\n",
       "      <td>2013.148953</td>\n",
       "      <td>17.712560</td>\n",
       "      <td>1083.885689</td>\n",
       "      <td>4.094203</td>\n",
       "      <td>24.969030</td>\n",
       "      <td>121.533361</td>\n",
       "    </tr>\n",
       "    <tr>\n",
       "      <th>std</th>\n",
       "      <td>0.281995</td>\n",
       "      <td>11.392485</td>\n",
       "      <td>1262.109595</td>\n",
       "      <td>2.945562</td>\n",
       "      <td>0.012410</td>\n",
       "      <td>0.015347</td>\n",
       "    </tr>\n",
       "    <tr>\n",
       "      <th>min</th>\n",
       "      <td>2012.666667</td>\n",
       "      <td>0.000000</td>\n",
       "      <td>23.382840</td>\n",
       "      <td>0.000000</td>\n",
       "      <td>24.932070</td>\n",
       "      <td>121.473530</td>\n",
       "    </tr>\n",
       "    <tr>\n",
       "      <th>25%</th>\n",
       "      <td>2012.916667</td>\n",
       "      <td>9.025000</td>\n",
       "      <td>289.324800</td>\n",
       "      <td>1.000000</td>\n",
       "      <td>24.963000</td>\n",
       "      <td>121.528085</td>\n",
       "    </tr>\n",
       "    <tr>\n",
       "      <th>50%</th>\n",
       "      <td>2013.166667</td>\n",
       "      <td>16.100000</td>\n",
       "      <td>492.231300</td>\n",
       "      <td>4.000000</td>\n",
       "      <td>24.971100</td>\n",
       "      <td>121.538630</td>\n",
       "    </tr>\n",
       "    <tr>\n",
       "      <th>75%</th>\n",
       "      <td>2013.416667</td>\n",
       "      <td>28.150000</td>\n",
       "      <td>1454.279000</td>\n",
       "      <td>6.000000</td>\n",
       "      <td>24.977455</td>\n",
       "      <td>121.543305</td>\n",
       "    </tr>\n",
       "    <tr>\n",
       "      <th>max</th>\n",
       "      <td>2013.583333</td>\n",
       "      <td>43.800000</td>\n",
       "      <td>6488.021000</td>\n",
       "      <td>10.000000</td>\n",
       "      <td>25.014590</td>\n",
       "      <td>121.566270</td>\n",
       "    </tr>\n",
       "  </tbody>\n",
       "</table>\n",
       "</div>"
      ],
      "text/plain": [
       "       transaction_date   house_age  distance_nearest_station  \\\n",
       "count        414.000000  414.000000                414.000000   \n",
       "mean        2013.148953   17.712560               1083.885689   \n",
       "std            0.281995   11.392485               1262.109595   \n",
       "min         2012.666667    0.000000                 23.382840   \n",
       "25%         2012.916667    9.025000                289.324800   \n",
       "50%         2013.166667   16.100000                492.231300   \n",
       "75%         2013.416667   28.150000               1454.279000   \n",
       "max         2013.583333   43.800000               6488.021000   \n",
       "\n",
       "       number_convenience_stores    latitude   longitude  \n",
       "count                 414.000000  414.000000  414.000000  \n",
       "mean                    4.094203   24.969030  121.533361  \n",
       "std                     2.945562    0.012410    0.015347  \n",
       "min                     0.000000   24.932070  121.473530  \n",
       "25%                     1.000000   24.963000  121.528085  \n",
       "50%                     4.000000   24.971100  121.538630  \n",
       "75%                     6.000000   24.977455  121.543305  \n",
       "max                    10.000000   25.014590  121.566270  "
      ]
     },
     "execution_count": 5,
     "metadata": {},
     "output_type": "execute_result"
    }
   ],
   "source": [
    "features.describe()"
   ]
  },
  {
   "cell_type": "code",
   "execution_count": 6,
   "metadata": {},
   "outputs": [],
   "source": [
    "def plot_distribution(df,title):\n",
    "    \"\"\"\n",
    "    Esta función recibe un dataframe de características y un titulo.\n",
    "    Retorna un gráfico de violines para cada una de las características.\n",
    "    \"\"\"\n",
    "    sns.violinplot(\n",
    "        data=df.melt(), # Cambiamos el esquema del dataframe para que sea solo de 2 columnas\n",
    "        y=\"variable\",\n",
    "        x=\"value\",\n",
    "        cut=0\n",
    "    )\n",
    "    plt.title(title)\n",
    "    plt.show()"
   ]
  },
  {
   "cell_type": "markdown",
   "metadata": {},
   "source": [
    "Con esta visualización podemos concluir que las variables sí se encuentran en distintos rangos."
   ]
  },
  {
   "cell_type": "code",
   "execution_count": 7,
   "metadata": {},
   "outputs": [
    {
     "data": {
      "image/png": "[encoded data removed]",
      "text/plain": [
       "<Figure size 432x288 with 1 Axes>"
      ]
     },
     "metadata": {
      "needs_background": "light"
     },
     "output_type": "display_data"
    }
   ],
   "source": [
    "plot_distribution(features,\"Raw Data\")"
   ]
  },
  {
   "cell_type": "markdown",
   "metadata": {},
   "source": [
    "## Normalización ( _Min-Max Scaling_ )"
   ]
  },
  {
   "cell_type": "markdown",
   "metadata": {},
   "source": [
    "El resultado de la normalización son variables escaladas hacia un rango fijo entre 0 y 1, donde 0 es mapeado al valor más pequeño del conjunto de datos original y 1 al más grande.\n",
    "\n",
    "La ecuación que representa este escalamiento es:\n",
    "\n",
    "$$x_{norm} = \\frac{x - x_{min}}{x_{max} - x_{min}}$$\n"
   ]
  },
  {
   "cell_type": "code",
   "execution_count": 8,
   "metadata": {},
   "outputs": [],
   "source": [
    "def rescale_data(df,scaler):\n",
    "    \"\"\"\n",
    "    Recibe un dataframe y un método de escalamiento de variables.\n",
    "    Retorna un dataframe con las variables escaladas utilizando el método especificado.\n",
    "    \"\"\"\n",
    "    if scaler != None:\n",
    "        features_rescaled = scaler.fit_transform(features) # Transformamos los datos utilizando un método de escalamiento.\n",
    "        return pd.DataFrame(features_rescaled,columns=feature_names)\n",
    "    else:\n",
    "        return df"
   ]
  },
  {
   "cell_type": "code",
   "execution_count": 9,
   "metadata": {},
   "outputs": [
    {
     "data": {
      "text/html": [
       "<div>\n",
       "<style scoped>\n",
       "    .dataframe tbody tr th:only-of-type {\n",
       "        vertical-align: middle;\n",
       "    }\n",
       "\n",
       "    .dataframe tbody tr th {\n",
       "        vertical-align: top;\n",
       "    }\n",
       "\n",
       "    .dataframe thead th {\n",
       "        text-align: right;\n",
       "    }\n",
       "</style>\n",
       "<table border=\"1\" class=\"dataframe\">\n",
       "  <thead>\n",
       "    <tr style=\"text-align: right;\">\n",
       "      <th></th>\n",
       "      <th>transaction_date</th>\n",
       "      <th>house_age</th>\n",
       "      <th>distance_nearest_station</th>\n",
       "      <th>number_convenience_stores</th>\n",
       "      <th>latitude</th>\n",
       "      <th>longitude</th>\n",
       "    </tr>\n",
       "  </thead>\n",
       "  <tbody>\n",
       "    <tr>\n",
       "      <th>count</th>\n",
       "      <td>414.000000</td>\n",
       "      <td>414.000000</td>\n",
       "      <td>414.000000</td>\n",
       "      <td>414.000000</td>\n",
       "      <td>414.000000</td>\n",
       "      <td>414.000000</td>\n",
       "    </tr>\n",
       "    <tr>\n",
       "      <th>mean</th>\n",
       "      <td>0.526131</td>\n",
       "      <td>0.404396</td>\n",
       "      <td>0.164047</td>\n",
       "      <td>0.409420</td>\n",
       "      <td>0.447892</td>\n",
       "      <td>0.645149</td>\n",
       "    </tr>\n",
       "    <tr>\n",
       "      <th>std</th>\n",
       "      <td>0.307631</td>\n",
       "      <td>0.260102</td>\n",
       "      <td>0.195233</td>\n",
       "      <td>0.294556</td>\n",
       "      <td>0.150390</td>\n",
       "      <td>0.165486</td>\n",
       "    </tr>\n",
       "    <tr>\n",
       "      <th>min</th>\n",
       "      <td>0.000000</td>\n",
       "      <td>0.000000</td>\n",
       "      <td>0.000000</td>\n",
       "      <td>0.000000</td>\n",
       "      <td>0.000000</td>\n",
       "      <td>0.000000</td>\n",
       "    </tr>\n",
       "    <tr>\n",
       "      <th>25%</th>\n",
       "      <td>0.272727</td>\n",
       "      <td>0.206050</td>\n",
       "      <td>0.041138</td>\n",
       "      <td>0.100000</td>\n",
       "      <td>0.374818</td>\n",
       "      <td>0.588257</td>\n",
       "    </tr>\n",
       "    <tr>\n",
       "      <th>50%</th>\n",
       "      <td>0.545455</td>\n",
       "      <td>0.367580</td>\n",
       "      <td>0.072525</td>\n",
       "      <td>0.400000</td>\n",
       "      <td>0.472976</td>\n",
       "      <td>0.701962</td>\n",
       "    </tr>\n",
       "    <tr>\n",
       "      <th>75%</th>\n",
       "      <td>0.818182</td>\n",
       "      <td>0.642694</td>\n",
       "      <td>0.221342</td>\n",
       "      <td>0.600000</td>\n",
       "      <td>0.549988</td>\n",
       "      <td>0.752372</td>\n",
       "    </tr>\n",
       "    <tr>\n",
       "      <th>max</th>\n",
       "      <td>1.000000</td>\n",
       "      <td>1.000000</td>\n",
       "      <td>1.000000</td>\n",
       "      <td>1.000000</td>\n",
       "      <td>1.000000</td>\n",
       "      <td>1.000000</td>\n",
       "    </tr>\n",
       "  </tbody>\n",
       "</table>\n",
       "</div>"
      ],
      "text/plain": [
       "       transaction_date   house_age  distance_nearest_station  \\\n",
       "count        414.000000  414.000000                414.000000   \n",
       "mean           0.526131    0.404396                  0.164047   \n",
       "std            0.307631    0.260102                  0.195233   \n",
       "min            0.000000    0.000000                  0.000000   \n",
       "25%            0.272727    0.206050                  0.041138   \n",
       "50%            0.545455    0.367580                  0.072525   \n",
       "75%            0.818182    0.642694                  0.221342   \n",
       "max            1.000000    1.000000                  1.000000   \n",
       "\n",
       "       number_convenience_stores    latitude   longitude  \n",
       "count                 414.000000  414.000000  414.000000  \n",
       "mean                    0.409420    0.447892    0.645149  \n",
       "std                     0.294556    0.150390    0.165486  \n",
       "min                     0.000000    0.000000    0.000000  \n",
       "25%                     0.100000    0.374818    0.588257  \n",
       "50%                     0.400000    0.472976    0.701962  \n",
       "75%                     0.600000    0.549988    0.752372  \n",
       "max                     1.000000    1.000000    1.000000  "
      ]
     },
     "execution_count": 9,
     "metadata": {},
     "output_type": "execute_result"
    }
   ],
   "source": [
    "features_mms = rescale_data(features,sklearn.preprocessing.MinMaxScaler())\n",
    "features_mms.describe()"
   ]
  },
  {
   "cell_type": "code",
   "execution_count": 10,
   "metadata": {},
   "outputs": [
    {
     "data": {
      "image/png": "[encoded data removed]",
      "text/plain": [
       "<Figure size 432x288 with 1 Axes>"
      ]
     },
     "metadata": {
      "needs_background": "light"
     },
     "output_type": "display_data"
    }
   ],
   "source": [
    "plot_distribution(features_mms,\"Min-Max Scaler\")"
   ]
  },
  {
   "cell_type": "markdown",
   "metadata": {},
   "source": [
    "## Estandarización"
   ]
  },
  {
   "cell_type": "markdown",
   "metadata": {},
   "source": [
    "En este tipo de escalamiento se retorna un grupo de variables mapeadas hacia una distribución normal de media 0 y desviación estandar 1. \n",
    "\n",
    "La ecuación que representa este escalamiento es:\n",
    "\n",
    "$$x_{std} = \\frac{x - x_{mean}}{x_{sd} }$$"
   ]
  },
  {
   "cell_type": "code",
   "execution_count": 11,
   "metadata": {},
   "outputs": [
    {
     "data": {
      "text/html": [
       "<div>\n",
       "<style scoped>\n",
       "    .dataframe tbody tr th:only-of-type {\n",
       "        vertical-align: middle;\n",
       "    }\n",
       "\n",
       "    .dataframe tbody tr th {\n",
       "        vertical-align: top;\n",
       "    }\n",
       "\n",
       "    .dataframe thead th {\n",
       "        text-align: right;\n",
       "    }\n",
       "</style>\n",
       "<table border=\"1\" class=\"dataframe\">\n",
       "  <thead>\n",
       "    <tr style=\"text-align: right;\">\n",
       "      <th></th>\n",
       "      <th>transaction_date</th>\n",
       "      <th>house_age</th>\n",
       "      <th>distance_nearest_station</th>\n",
       "      <th>number_convenience_stores</th>\n",
       "      <th>latitude</th>\n",
       "      <th>longitude</th>\n",
       "    </tr>\n",
       "  </thead>\n",
       "  <tbody>\n",
       "    <tr>\n",
       "      <th>count</th>\n",
       "      <td>4.140000e+02</td>\n",
       "      <td>4.140000e+02</td>\n",
       "      <td>4.140000e+02</td>\n",
       "      <td>4.140000e+02</td>\n",
       "      <td>4.140000e+02</td>\n",
       "      <td>4.140000e+02</td>\n",
       "    </tr>\n",
       "    <tr>\n",
       "      <th>mean</th>\n",
       "      <td>1.753750e-13</td>\n",
       "      <td>-6.704245e-17</td>\n",
       "      <td>-1.161175e-16</td>\n",
       "      <td>-1.072679e-18</td>\n",
       "      <td>9.345396e-14</td>\n",
       "      <td>-1.594378e-12</td>\n",
       "    </tr>\n",
       "    <tr>\n",
       "      <th>std</th>\n",
       "      <td>1.001210e+00</td>\n",
       "      <td>1.001210e+00</td>\n",
       "      <td>1.001210e+00</td>\n",
       "      <td>1.001210e+00</td>\n",
       "      <td>1.001210e+00</td>\n",
       "      <td>1.001210e+00</td>\n",
       "    </tr>\n",
       "    <tr>\n",
       "      <th>min</th>\n",
       "      <td>-1.712333e+00</td>\n",
       "      <td>-1.556639e+00</td>\n",
       "      <td>-8.412787e-01</td>\n",
       "      <td>-1.391638e+00</td>\n",
       "      <td>-2.981805e+00</td>\n",
       "      <td>-3.903223e+00</td>\n",
       "    </tr>\n",
       "    <tr>\n",
       "      <th>25%</th>\n",
       "      <td>-8.247207e-01</td>\n",
       "      <td>-7.634921e-01</td>\n",
       "      <td>-6.303115e-01</td>\n",
       "      <td>-1.051734e+00</td>\n",
       "      <td>-4.864845e-01</td>\n",
       "      <td>-3.441981e-01</td>\n",
       "    </tr>\n",
       "    <tr>\n",
       "      <th>50%</th>\n",
       "      <td>6.289152e-02</td>\n",
       "      <td>-1.417172e-01</td>\n",
       "      <td>-4.693493e-01</td>\n",
       "      <td>-3.202000e-02</td>\n",
       "      <td>1.669943e-01</td>\n",
       "      <td>3.437301e-01</td>\n",
       "    </tr>\n",
       "    <tr>\n",
       "      <th>75%</th>\n",
       "      <td>9.505038e-01</td>\n",
       "      <td>9.172774e-01</td>\n",
       "      <td>2.938267e-01</td>\n",
       "      <td>6.477891e-01</td>\n",
       "      <td>6.796928e-01</td>\n",
       "      <td>6.487148e-01</td>\n",
       "    </tr>\n",
       "    <tr>\n",
       "      <th>max</th>\n",
       "      <td>1.542243e+00</td>\n",
       "      <td>2.292652e+00</td>\n",
       "      <td>4.287008e+00</td>\n",
       "      <td>2.007407e+00</td>\n",
       "      <td>3.675611e+00</td>\n",
       "      <td>2.146891e+00</td>\n",
       "    </tr>\n",
       "  </tbody>\n",
       "</table>\n",
       "</div>"
      ],
      "text/plain": [
       "       transaction_date     house_age  distance_nearest_station  \\\n",
       "count      4.140000e+02  4.140000e+02              4.140000e+02   \n",
       "mean       1.753750e-13 -6.704245e-17             -1.161175e-16   \n",
       "std        1.001210e+00  1.001210e+00              1.001210e+00   \n",
       "min       -1.712333e+00 -1.556639e+00             -8.412787e-01   \n",
       "25%       -8.247207e-01 -7.634921e-01             -6.303115e-01   \n",
       "50%        6.289152e-02 -1.417172e-01             -4.693493e-01   \n",
       "75%        9.505038e-01  9.172774e-01              2.938267e-01   \n",
       "max        1.542243e+00  2.292652e+00              4.287008e+00   \n",
       "\n",
       "       number_convenience_stores      latitude     longitude  \n",
       "count               4.140000e+02  4.140000e+02  4.140000e+02  \n",
       "mean               -1.072679e-18  9.345396e-14 -1.594378e-12  \n",
       "std                 1.001210e+00  1.001210e+00  1.001210e+00  \n",
       "min                -1.391638e+00 -2.981805e+00 -3.903223e+00  \n",
       "25%                -1.051734e+00 -4.864845e-01 -3.441981e-01  \n",
       "50%                -3.202000e-02  1.669943e-01  3.437301e-01  \n",
       "75%                 6.477891e-01  6.796928e-01  6.487148e-01  \n",
       "max                 2.007407e+00  3.675611e+00  2.146891e+00  "
      ]
     },
     "execution_count": 11,
     "metadata": {},
     "output_type": "execute_result"
    }
   ],
   "source": [
    "features_ss = rescale_data(features,sklearn.preprocessing.StandardScaler())\n",
    "features_ss.describe()"
   ]
  },
  {
   "cell_type": "code",
   "execution_count": 12,
   "metadata": {},
   "outputs": [
    {
     "data": {
      "image/png": "[encoded data removed]",
      "text/plain": [
       "<Figure size 432x288 with 1 Axes>"
      ]
     },
     "metadata": {
      "needs_background": "light"
     },
     "output_type": "display_data"
    }
   ],
   "source": [
    "plot_distribution(features_ss,\"Standard Scaler\")"
   ]
  },
  {
   "cell_type": "markdown",
   "metadata": {},
   "source": [
    "## _Robust Scaler_"
   ]
  },
  {
   "cell_type": "markdown",
   "metadata": {},
   "source": [
    "Este tipo de escalamiento remueve la mediana de las variables y las escala de acuerdo al rango intercuartílico. Este método es muy robusto a la presencia de outliers."
   ]
  },
  {
   "cell_type": "code",
   "execution_count": 13,
   "metadata": {},
   "outputs": [
    {
     "data": {
      "text/html": [
       "<div>\n",
       "<style scoped>\n",
       "    .dataframe tbody tr th:only-of-type {\n",
       "        vertical-align: middle;\n",
       "    }\n",
       "\n",
       "    .dataframe tbody tr th {\n",
       "        vertical-align: top;\n",
       "    }\n",
       "\n",
       "    .dataframe thead th {\n",
       "        text-align: right;\n",
       "    }\n",
       "</style>\n",
       "<table border=\"1\" class=\"dataframe\">\n",
       "  <thead>\n",
       "    <tr style=\"text-align: right;\">\n",
       "      <th></th>\n",
       "      <th>transaction_date</th>\n",
       "      <th>house_age</th>\n",
       "      <th>distance_nearest_station</th>\n",
       "      <th>number_convenience_stores</th>\n",
       "      <th>latitude</th>\n",
       "      <th>longitude</th>\n",
       "    </tr>\n",
       "  </thead>\n",
       "  <tbody>\n",
       "    <tr>\n",
       "      <th>count</th>\n",
       "      <td>414.000000</td>\n",
       "      <td>414.000000</td>\n",
       "      <td>414.000000</td>\n",
       "      <td>414.000000</td>\n",
       "      <td>414.000000</td>\n",
       "      <td>414.000000</td>\n",
       "    </tr>\n",
       "    <tr>\n",
       "      <th>mean</th>\n",
       "      <td>-0.035427</td>\n",
       "      <td>0.084317</td>\n",
       "      <td>0.507878</td>\n",
       "      <td>0.018841</td>\n",
       "      <td>-0.143198</td>\n",
       "      <td>-0.346184</td>\n",
       "    </tr>\n",
       "    <tr>\n",
       "      <th>std</th>\n",
       "      <td>0.563991</td>\n",
       "      <td>0.595685</td>\n",
       "      <td>1.083398</td>\n",
       "      <td>0.589112</td>\n",
       "      <td>0.858540</td>\n",
       "      <td>1.008356</td>\n",
       "    </tr>\n",
       "    <tr>\n",
       "      <th>min</th>\n",
       "      <td>-1.000000</td>\n",
       "      <td>-0.841830</td>\n",
       "      <td>-0.402461</td>\n",
       "      <td>-0.800000</td>\n",
       "      <td>-2.700104</td>\n",
       "      <td>-4.277267</td>\n",
       "    </tr>\n",
       "    <tr>\n",
       "      <th>25%</th>\n",
       "      <td>-0.500000</td>\n",
       "      <td>-0.369935</td>\n",
       "      <td>-0.174176</td>\n",
       "      <td>-0.600000</td>\n",
       "      <td>-0.560360</td>\n",
       "      <td>-0.692838</td>\n",
       "    </tr>\n",
       "    <tr>\n",
       "      <th>50%</th>\n",
       "      <td>0.000000</td>\n",
       "      <td>0.000000</td>\n",
       "      <td>0.000000</td>\n",
       "      <td>0.000000</td>\n",
       "      <td>0.000000</td>\n",
       "      <td>0.000000</td>\n",
       "    </tr>\n",
       "    <tr>\n",
       "      <th>75%</th>\n",
       "      <td>0.500000</td>\n",
       "      <td>0.630065</td>\n",
       "      <td>0.825824</td>\n",
       "      <td>0.400000</td>\n",
       "      <td>0.439640</td>\n",
       "      <td>0.307162</td>\n",
       "    </tr>\n",
       "    <tr>\n",
       "      <th>max</th>\n",
       "      <td>0.833332</td>\n",
       "      <td>1.448366</td>\n",
       "      <td>5.146803</td>\n",
       "      <td>1.200000</td>\n",
       "      <td>3.008648</td>\n",
       "      <td>1.816032</td>\n",
       "    </tr>\n",
       "  </tbody>\n",
       "</table>\n",
       "</div>"
      ],
      "text/plain": [
       "       transaction_date   house_age  distance_nearest_station  \\\n",
       "count        414.000000  414.000000                414.000000   \n",
       "mean          -0.035427    0.084317                  0.507878   \n",
       "std            0.563991    0.595685                  1.083398   \n",
       "min           -1.000000   -0.841830                 -0.402461   \n",
       "25%           -0.500000   -0.369935                 -0.174176   \n",
       "50%            0.000000    0.000000                  0.000000   \n",
       "75%            0.500000    0.630065                  0.825824   \n",
       "max            0.833332    1.448366                  5.146803   \n",
       "\n",
       "       number_convenience_stores    latitude   longitude  \n",
       "count                 414.000000  414.000000  414.000000  \n",
       "mean                    0.018841   -0.143198   -0.346184  \n",
       "std                     0.589112    0.858540    1.008356  \n",
       "min                    -0.800000   -2.700104   -4.277267  \n",
       "25%                    -0.600000   -0.560360   -0.692838  \n",
       "50%                     0.000000    0.000000    0.000000  \n",
       "75%                     0.400000    0.439640    0.307162  \n",
       "max                     1.200000    3.008648    1.816032  "
      ]
     },
     "execution_count": 13,
     "metadata": {},
     "output_type": "execute_result"
    }
   ],
   "source": [
    "features_rs = rescale_data(features,sklearn.preprocessing.RobustScaler())\n",
    "features_rs.describe()"
   ]
  },
  {
   "cell_type": "code",
   "execution_count": 14,
   "metadata": {},
   "outputs": [
    {
     "data": {
      "image/png": "[encoded data removed]",
      "text/plain": [
       "<Figure size 432x288 with 1 Axes>"
      ]
     },
     "metadata": {
      "needs_background": "light"
     },
     "output_type": "display_data"
    }
   ],
   "source": [
    "plot_distribution(features_rs,\"Robust Scaler\")"
   ]
  },
  {
   "cell_type": "markdown",
   "metadata": {},
   "source": [
    "## Comparación"
   ]
  },
  {
   "cell_type": "code",
   "execution_count": 15,
   "metadata": {},
   "outputs": [],
   "source": [
    "def fit_test(features,label,regressor):\n",
    "    \"\"\"\n",
    "    Recibe un arreglo de características y de etiquetas junto con el método que se utilizará para regresión.\n",
    "    Retornma el RMSE asociado al conjunto de prueba.\n",
    "    \"\"\"\n",
    "    features_train, features_test, label_train, label_test = sklearn.model_selection.train_test_split( \n",
    "        features,\n",
    "        label,\n",
    "        test_size=0.30, \n",
    "        random_state = 11, \n",
    "    )\n",
    "    regressor.fit(features_train, label_train)\n",
    "    predictions = regressor.predict(features_test)\n",
    "    return sklearn.metrics.mean_squared_error(label_test, predictions) ** 0.5"
   ]
  },
  {
   "cell_type": "markdown",
   "metadata": {},
   "source": [
    "Declaramos una lista de algoritmos y escaladores a probar."
   ]
  },
  {
   "cell_type": "code",
   "execution_count": 16,
   "metadata": {},
   "outputs": [],
   "source": [
    "regressors = [\n",
    "    sklearn.neighbors.KNeighborsRegressor(),\n",
    "    sklearn.tree.DecisionTreeRegressor(random_state=11)\n",
    "]\n",
    "\n",
    "transformers = [\n",
    "    None,\n",
    "    sklearn.preprocessing.StandardScaler(),\n",
    "    sklearn.preprocessing.MinMaxScaler(),\n",
    "    sklearn.preprocessing.RobustScaler(),\n",
    "]"
   ]
  },
  {
   "cell_type": "markdown",
   "metadata": {},
   "source": [
    "Iteramos sobre cada una de las combinaciones y le extraemos el RMSE de cada combinación"
   ]
  },
  {
   "cell_type": "code",
   "execution_count": 17,
   "metadata": {},
   "outputs": [
    {
     "data": {
      "text/html": [
       "<div>\n",
       "<style scoped>\n",
       "    .dataframe tbody tr th:only-of-type {\n",
       "        vertical-align: middle;\n",
       "    }\n",
       "\n",
       "    .dataframe tbody tr th {\n",
       "        vertical-align: top;\n",
       "    }\n",
       "\n",
       "    .dataframe thead th {\n",
       "        text-align: right;\n",
       "    }\n",
       "</style>\n",
       "<table border=\"1\" class=\"dataframe\">\n",
       "  <thead>\n",
       "    <tr style=\"text-align: right;\">\n",
       "      <th></th>\n",
       "      <th>regressor</th>\n",
       "      <th>transformer</th>\n",
       "      <th>rmse</th>\n",
       "    </tr>\n",
       "  </thead>\n",
       "  <tbody>\n",
       "    <tr>\n",
       "      <th>3</th>\n",
       "      <td>KNeighborsRegressor</td>\n",
       "      <td>RobustScaler</td>\n",
       "      <td>10.194979</td>\n",
       "    </tr>\n",
       "    <tr>\n",
       "      <th>1</th>\n",
       "      <td>KNeighborsRegressor</td>\n",
       "      <td>StandardScaler</td>\n",
       "      <td>10.647767</td>\n",
       "    </tr>\n",
       "    <tr>\n",
       "      <th>2</th>\n",
       "      <td>KNeighborsRegressor</td>\n",
       "      <td>MinMaxScaler</td>\n",
       "      <td>10.675315</td>\n",
       "    </tr>\n",
       "    <tr>\n",
       "      <th>0</th>\n",
       "      <td>KNeighborsRegressor</td>\n",
       "      <td>NoneType</td>\n",
       "      <td>10.717102</td>\n",
       "    </tr>\n",
       "    <tr>\n",
       "      <th>5</th>\n",
       "      <td>DecisionTreeRegressor</td>\n",
       "      <td>StandardScaler</td>\n",
       "      <td>11.012329</td>\n",
       "    </tr>\n",
       "    <tr>\n",
       "      <th>7</th>\n",
       "      <td>DecisionTreeRegressor</td>\n",
       "      <td>RobustScaler</td>\n",
       "      <td>11.012329</td>\n",
       "    </tr>\n",
       "    <tr>\n",
       "      <th>6</th>\n",
       "      <td>DecisionTreeRegressor</td>\n",
       "      <td>MinMaxScaler</td>\n",
       "      <td>11.015071</td>\n",
       "    </tr>\n",
       "    <tr>\n",
       "      <th>4</th>\n",
       "      <td>DecisionTreeRegressor</td>\n",
       "      <td>NoneType</td>\n",
       "      <td>11.033359</td>\n",
       "    </tr>\n",
       "  </tbody>\n",
       "</table>\n",
       "</div>"
      ],
      "text/plain": [
       "               regressor     transformer       rmse\n",
       "3    KNeighborsRegressor    RobustScaler  10.194979\n",
       "1    KNeighborsRegressor  StandardScaler  10.647767\n",
       "2    KNeighborsRegressor    MinMaxScaler  10.675315\n",
       "0    KNeighborsRegressor        NoneType  10.717102\n",
       "5  DecisionTreeRegressor  StandardScaler  11.012329\n",
       "7  DecisionTreeRegressor    RobustScaler  11.012329\n",
       "6  DecisionTreeRegressor    MinMaxScaler  11.015071\n",
       "4  DecisionTreeRegressor        NoneType  11.033359"
      ]
     },
     "execution_count": 17,
     "metadata": {},
     "output_type": "execute_result"
    }
   ],
   "source": [
    "results = []\n",
    "for regressor in regressors:\n",
    "    for transformer in transformers:\n",
    "        transformed_features = rescale_data(features,transformer)\n",
    "        result = fit_test(transformed_features,label,regressor)\n",
    "        results.append(\n",
    "            {\n",
    "                \"regressor\":regressor.__class__.__name__,\n",
    "                \"transformer\":transformer.__class__.__name__,\n",
    "                \"rmse\":result\n",
    "            }\n",
    "        )\n",
    "results = pd.DataFrame(results).sort_values(by=\"rmse\")\n",
    "results"
   ]
  },
  {
   "cell_type": "markdown",
   "metadata": {},
   "source": [
    "Resumimos los resultados (menos RMSE es mejor). Podemos concluir que el mejor método es el robust scaler y que el arbol de decisión no se ve afectado por las escalas de las variables."
   ]
  },
  {
   "cell_type": "code",
   "execution_count": 18,
   "metadata": {},
   "outputs": [
    {
     "data": {
      "text/plain": [
       "(9, 12)"
      ]
     },
     "execution_count": 18,
     "metadata": {},
     "output_type": "execute_result"
    },
    {
     "data": {
      "image/png": "[encoded data removed]",
      "text/plain": [
       "<Figure size 432x288 with 1 Axes>"
      ]
     },
     "metadata": {
      "needs_background": "light"
     },
     "output_type": "display_data"
    }
   ],
   "source": [
    "sns.barplot(\n",
    "    data=results,\n",
    "    x=\"regressor\",\n",
    "    y=\"rmse\",\n",
    "    hue=\"transformer\"\n",
    ")\n",
    "plt.ylim([9,12])"
   ]
  },
  {
   "cell_type": "code",
   "execution_count": null,
   "metadata": {},
   "outputs": [],
   "source": []
  }
 ],
 "metadata": {
  "kernelspec": {
   "display_name": "Python 3 (ipykernel)",
   "language": "python",
   "name": "python3"
  },
  "language_info": {
   "codemirror_mode": {
    "name": "ipython",
    "version": 3
   },
   "file_extension": ".py",
   "mimetype": "text/x-python",
   "name": "python",
   "nbconvert_exporter": "python",
   "pygments_lexer": "ipython3",
   "version": "3.7.6"
  }
 },
 "nbformat": 4,
 "nbformat_minor": 4
}
