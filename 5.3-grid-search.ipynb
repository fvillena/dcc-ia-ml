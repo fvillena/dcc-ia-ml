{
 "cells": [
  {
   "cell_type": "markdown",
   "metadata": {},
   "source": [
    "# Optimización de Hiperparámetros"
   ]
  },
  {
   "cell_type": "markdown",
   "metadata": {},
   "source": [
    "La optimización de hiperparámetros es la selección de la combinación de hiperparámetros del modelo que maximiza la métrica que a nosotros nos intereza optimizar. Esta selección de hiperparámetros típicamente se realiza utilizando fuerza bruta al probar todas las combinaciones de hiperparámetros de un espacio determinado por nosotros."
   ]
  },
  {
   "cell_type": "code",
   "execution_count": 1,
   "metadata": {
    "scrolled": true
   },
   "outputs": [],
   "source": [
    "import pandas as pd\n",
    "import numpy as np\n",
    "import sklearn.preprocessing\n",
    "import sklearn.model_selection\n",
    "import sklearn.neural_network\n",
    "import sklearn.ensemble\n",
    "import matplotlib.pyplot as plt"
   ]
  },
  {
   "cell_type": "markdown",
   "metadata": {},
   "source": [
    "## Preprocesamiento"
   ]
  },
  {
   "cell_type": "code",
   "execution_count": 2,
   "metadata": {},
   "outputs": [],
   "source": [
    "np.random.seed(11)"
   ]
  },
  {
   "cell_type": "code",
   "execution_count": 3,
   "metadata": {},
   "outputs": [],
   "source": [
    "gender = pd.read_csv(\"data/gender.csv\")"
   ]
  },
  {
   "cell_type": "code",
   "execution_count": 4,
   "metadata": {},
   "outputs": [],
   "source": [
    "features = gender.iloc[:,:-1] # Seleccionamos sólo las características del conjunto de datos\n",
    "label = gender[\"Gender\"] # Seleccionamos la etiqueta del conjunto de datos"
   ]
  },
  {
   "cell_type": "code",
   "execution_count": 5,
   "metadata": {},
   "outputs": [],
   "source": [
    "enc = sklearn.preprocessing.OneHotEncoder() # Instanciamos nuestro One-Hot Encoder\n",
    "features_transformed = pd.DataFrame(\n",
    "    enc.fit_transform(features).todense(), # Entrenamos nuestro transformador y transformamos las características\n",
    "    columns = enc.get_feature_names()\n",
    ")"
   ]
  },
  {
   "cell_type": "markdown",
   "metadata": {},
   "source": [
    "## Modelamiento"
   ]
  },
  {
   "cell_type": "markdown",
   "metadata": {},
   "source": [
    "Vamos a seleccionar la combinación de hiperparámetros que nos ofrezca la mejor métrica de rendimiento. Primero se establece una matriz de hiperparámetros y se generan todas las combinaciones de hiperparámetros. Con cada una de las combinaciones se realiza el entrenamiento de modelos utilizando la técnica de validación cruzada. Se establecerá la mejor combinación de hiperparámetros según el promedio de resultados sonbre el conjunto de prueba."
   ]
  },
  {
   "cell_type": "code",
   "execution_count": 6,
   "metadata": {},
   "outputs": [],
   "source": [
    "def grid_search(estimator,param_grid,features,label):\n",
    "    \"\"\"\n",
    "    Recibe un estimador, una matriz de hiperparámetros, una matriz de características y un arreglo de etiquetas.\n",
    "    Retorna un objeto del tipo GridSearchCV\n",
    "    \"\"\"\n",
    "    gs = sklearn.model_selection.GridSearchCV( # Instanciamos un objeto de grid search\n",
    "        estimator, # Este es el estimador al cual le buscaremos los mejores hiperparámetros.\n",
    "        scoring = 'roc_auc', # Esta es la métrica de rendimiento que utilizaremos.\n",
    "        param_grid = param_grid, # Acá pasamos el espacio de hiperparámetros a probar\n",
    "        cv = sklearn.model_selection.StratifiedKFold( # Utilizamos una validación cruzada estratificada\n",
    "                n_splits = 3, # El conjunto de datos se divide en 3\n",
    "                shuffle = True # Desordenamos el conjunto de datos antes de dividirlo\n",
    "            )\n",
    "    )\n",
    "    gs.fit(features,label) # Entrenamos el grid search\n",
    "    return gs"
   ]
  },
  {
   "cell_type": "markdown",
   "metadata": {},
   "source": [
    "Establecemos nuestro espacio de hiperparámetros según el algoritmo a utilizar."
   ]
  },
  {
   "cell_type": "code",
   "execution_count": 7,
   "metadata": {},
   "outputs": [],
   "source": [
    "rf_grid = {\n",
    "    'n_estimators': [50, 100, 200, 500],\n",
    "    'min_samples_split': range(2,5)\n",
    "}"
   ]
  },
  {
   "cell_type": "markdown",
   "metadata": {},
   "source": [
    "Ajustamos un grid search para random forest."
   ]
  },
  {
   "cell_type": "code",
   "execution_count": 8,
   "metadata": {},
   "outputs": [],
   "source": [
    "rf_gs = grid_search(\n",
    "    estimator = sklearn.ensemble.RandomForestClassifier(),\n",
    "    param_grid = rf_grid,\n",
    "    features = features_transformed,\n",
    "    label = label\n",
    ")"
   ]
  },
  {
   "cell_type": "markdown",
   "metadata": {},
   "source": [
    "Este es el resumen de los resultados del grid search."
   ]
  },
  {
   "cell_type": "code",
   "execution_count": 9,
   "metadata": {},
   "outputs": [
    {
     "data": {
      "text/html": [
       "<div>\n",
       "<style scoped>\n",
       "    .dataframe tbody tr th:only-of-type {\n",
       "        vertical-align: middle;\n",
       "    }\n",
       "\n",
       "    .dataframe tbody tr th {\n",
       "        vertical-align: top;\n",
       "    }\n",
       "\n",
       "    .dataframe thead th {\n",
       "        text-align: right;\n",
       "    }\n",
       "</style>\n",
       "<table border=\"1\" class=\"dataframe\">\n",
       "  <thead>\n",
       "    <tr style=\"text-align: right;\">\n",
       "      <th></th>\n",
       "      <th>mean_fit_time</th>\n",
       "      <th>std_fit_time</th>\n",
       "      <th>mean_score_time</th>\n",
       "      <th>std_score_time</th>\n",
       "      <th>param_min_samples_split</th>\n",
       "      <th>param_n_estimators</th>\n",
       "      <th>params</th>\n",
       "      <th>split0_test_score</th>\n",
       "      <th>split1_test_score</th>\n",
       "      <th>split2_test_score</th>\n",
       "      <th>mean_test_score</th>\n",
       "      <th>std_test_score</th>\n",
       "      <th>rank_test_score</th>\n",
       "    </tr>\n",
       "  </thead>\n",
       "  <tbody>\n",
       "    <tr>\n",
       "      <td>0</td>\n",
       "      <td>0.080336</td>\n",
       "      <td>0.010284</td>\n",
       "      <td>0.006680</td>\n",
       "      <td>0.000401</td>\n",
       "      <td>2</td>\n",
       "      <td>50</td>\n",
       "      <td>{'min_samples_split': 2, 'n_estimators': 50}</td>\n",
       "      <td>0.719008</td>\n",
       "      <td>0.599174</td>\n",
       "      <td>0.595041</td>\n",
       "      <td>0.637741</td>\n",
       "      <td>0.057489</td>\n",
       "      <td>1</td>\n",
       "    </tr>\n",
       "    <tr>\n",
       "      <td>3</td>\n",
       "      <td>0.955751</td>\n",
       "      <td>0.287964</td>\n",
       "      <td>0.060786</td>\n",
       "      <td>0.014544</td>\n",
       "      <td>2</td>\n",
       "      <td>500</td>\n",
       "      <td>{'min_samples_split': 2, 'n_estimators': 500}</td>\n",
       "      <td>0.727273</td>\n",
       "      <td>0.590909</td>\n",
       "      <td>0.512397</td>\n",
       "      <td>0.610193</td>\n",
       "      <td>0.088776</td>\n",
       "      <td>2</td>\n",
       "    </tr>\n",
       "    <tr>\n",
       "      <td>8</td>\n",
       "      <td>0.118854</td>\n",
       "      <td>0.000292</td>\n",
       "      <td>0.010483</td>\n",
       "      <td>0.000245</td>\n",
       "      <td>4</td>\n",
       "      <td>50</td>\n",
       "      <td>{'min_samples_split': 4, 'n_estimators': 50}</td>\n",
       "      <td>0.677686</td>\n",
       "      <td>0.561983</td>\n",
       "      <td>0.570248</td>\n",
       "      <td>0.603306</td>\n",
       "      <td>0.052703</td>\n",
       "      <td>3</td>\n",
       "    </tr>\n",
       "    <tr>\n",
       "      <td>4</td>\n",
       "      <td>0.146604</td>\n",
       "      <td>0.008281</td>\n",
       "      <td>0.013429</td>\n",
       "      <td>0.000750</td>\n",
       "      <td>3</td>\n",
       "      <td>50</td>\n",
       "      <td>{'min_samples_split': 3, 'n_estimators': 50}</td>\n",
       "      <td>0.743802</td>\n",
       "      <td>0.603306</td>\n",
       "      <td>0.458678</td>\n",
       "      <td>0.601928</td>\n",
       "      <td>0.116405</td>\n",
       "      <td>4</td>\n",
       "    </tr>\n",
       "    <tr>\n",
       "      <td>1</td>\n",
       "      <td>0.152098</td>\n",
       "      <td>0.014770</td>\n",
       "      <td>0.010302</td>\n",
       "      <td>0.000538</td>\n",
       "      <td>2</td>\n",
       "      <td>100</td>\n",
       "      <td>{'min_samples_split': 2, 'n_estimators': 100}</td>\n",
       "      <td>0.714876</td>\n",
       "      <td>0.537190</td>\n",
       "      <td>0.537190</td>\n",
       "      <td>0.596419</td>\n",
       "      <td>0.083762</td>\n",
       "      <td>5</td>\n",
       "    </tr>\n",
       "  </tbody>\n",
       "</table>\n",
       "</div>"
      ],
      "text/plain": [
       "   mean_fit_time  std_fit_time  mean_score_time  std_score_time  \\\n",
       "0       0.080336      0.010284         0.006680        0.000401   \n",
       "3       0.955751      0.287964         0.060786        0.014544   \n",
       "8       0.118854      0.000292         0.010483        0.000245   \n",
       "4       0.146604      0.008281         0.013429        0.000750   \n",
       "1       0.152098      0.014770         0.010302        0.000538   \n",
       "\n",
       "  param_min_samples_split param_n_estimators  \\\n",
       "0                       2                 50   \n",
       "3                       2                500   \n",
       "8                       4                 50   \n",
       "4                       3                 50   \n",
       "1                       2                100   \n",
       "\n",
       "                                          params  split0_test_score  \\\n",
       "0   {'min_samples_split': 2, 'n_estimators': 50}           0.719008   \n",
       "3  {'min_samples_split': 2, 'n_estimators': 500}           0.727273   \n",
       "8   {'min_samples_split': 4, 'n_estimators': 50}           0.677686   \n",
       "4   {'min_samples_split': 3, 'n_estimators': 50}           0.743802   \n",
       "1  {'min_samples_split': 2, 'n_estimators': 100}           0.714876   \n",
       "\n",
       "   split1_test_score  split2_test_score  mean_test_score  std_test_score  \\\n",
       "0           0.599174           0.595041         0.637741        0.057489   \n",
       "3           0.590909           0.512397         0.610193        0.088776   \n",
       "8           0.561983           0.570248         0.603306        0.052703   \n",
       "4           0.603306           0.458678         0.601928        0.116405   \n",
       "1           0.537190           0.537190         0.596419        0.083762   \n",
       "\n",
       "   rank_test_score  \n",
       "0                1  \n",
       "3                2  \n",
       "8                3  \n",
       "4                4  \n",
       "1                5  "
      ]
     },
     "execution_count": 9,
     "metadata": {},
     "output_type": "execute_result"
    }
   ],
   "source": [
    "rf_gs_results = pd.DataFrame(rf_gs.cv_results_).sort_values(\"rank_test_score\")\n",
    "rf_gs_results.head()"
   ]
  },
  {
   "cell_type": "markdown",
   "metadata": {},
   "source": [
    "Esta es la mejor combinación de hiperparámetros."
   ]
  },
  {
   "cell_type": "code",
   "execution_count": 10,
   "metadata": {},
   "outputs": [
    {
     "data": {
      "text/plain": [
       "{'min_samples_split': 2, 'n_estimators': 50}"
      ]
     },
     "execution_count": 10,
     "metadata": {},
     "output_type": "execute_result"
    }
   ],
   "source": [
    "rf_gs.best_params_"
   ]
  },
  {
   "cell_type": "markdown",
   "metadata": {},
   "source": [
    "Realizamos el mismo procedimiento para el perceptrón multicapa."
   ]
  },
  {
   "cell_type": "code",
   "execution_count": 11,
   "metadata": {},
   "outputs": [],
   "source": [
    "mlp_grid = {\n",
    "    'hidden_layer_sizes': [(50), (50,50), (100), (100,100)],\n",
    "    'max_iter': [5000],\n",
    "    'activation': ['identity', 'logistic', 'tanh', 'relu']\n",
    "}"
   ]
  },
  {
   "cell_type": "code",
   "execution_count": 12,
   "metadata": {},
   "outputs": [],
   "source": [
    "mlp_gs = grid_search(\n",
    "    estimator = sklearn.neural_network.MLPClassifier(),\n",
    "    param_grid = mlp_grid,\n",
    "    features = features_transformed,\n",
    "    label = label\n",
    ")"
   ]
  },
  {
   "cell_type": "code",
   "execution_count": 13,
   "metadata": {
    "scrolled": true
   },
   "outputs": [
    {
     "data": {
      "text/html": [
       "<div>\n",
       "<style scoped>\n",
       "    .dataframe tbody tr th:only-of-type {\n",
       "        vertical-align: middle;\n",
       "    }\n",
       "\n",
       "    .dataframe tbody tr th {\n",
       "        vertical-align: top;\n",
       "    }\n",
       "\n",
       "    .dataframe thead th {\n",
       "        text-align: right;\n",
       "    }\n",
       "</style>\n",
       "<table border=\"1\" class=\"dataframe\">\n",
       "  <thead>\n",
       "    <tr style=\"text-align: right;\">\n",
       "      <th></th>\n",
       "      <th>mean_fit_time</th>\n",
       "      <th>std_fit_time</th>\n",
       "      <th>mean_score_time</th>\n",
       "      <th>std_score_time</th>\n",
       "      <th>param_activation</th>\n",
       "      <th>param_hidden_layer_sizes</th>\n",
       "      <th>param_max_iter</th>\n",
       "      <th>params</th>\n",
       "      <th>split0_test_score</th>\n",
       "      <th>split1_test_score</th>\n",
       "      <th>split2_test_score</th>\n",
       "      <th>mean_test_score</th>\n",
       "      <th>std_test_score</th>\n",
       "      <th>rank_test_score</th>\n",
       "    </tr>\n",
       "  </thead>\n",
       "  <tbody>\n",
       "    <tr>\n",
       "      <td>5</td>\n",
       "      <td>0.402147</td>\n",
       "      <td>0.512268</td>\n",
       "      <td>0.004247</td>\n",
       "      <td>0.000434</td>\n",
       "      <td>logistic</td>\n",
       "      <td>(50, 50)</td>\n",
       "      <td>5000</td>\n",
       "      <td>{'activation': 'logistic', 'hidden_layer_sizes...</td>\n",
       "      <td>0.570248</td>\n",
       "      <td>0.690083</td>\n",
       "      <td>0.698347</td>\n",
       "      <td>0.652893</td>\n",
       "      <td>0.058536</td>\n",
       "      <td>1</td>\n",
       "    </tr>\n",
       "    <tr>\n",
       "      <td>13</td>\n",
       "      <td>0.442692</td>\n",
       "      <td>0.029632</td>\n",
       "      <td>0.005595</td>\n",
       "      <td>0.000163</td>\n",
       "      <td>relu</td>\n",
       "      <td>(50, 50)</td>\n",
       "      <td>5000</td>\n",
       "      <td>{'activation': 'relu', 'hidden_layer_sizes': (...</td>\n",
       "      <td>0.586777</td>\n",
       "      <td>0.681818</td>\n",
       "      <td>0.673554</td>\n",
       "      <td>0.647383</td>\n",
       "      <td>0.042988</td>\n",
       "      <td>2</td>\n",
       "    </tr>\n",
       "    <tr>\n",
       "      <td>15</td>\n",
       "      <td>0.369120</td>\n",
       "      <td>0.029869</td>\n",
       "      <td>0.004821</td>\n",
       "      <td>0.000609</td>\n",
       "      <td>relu</td>\n",
       "      <td>(100, 100)</td>\n",
       "      <td>5000</td>\n",
       "      <td>{'activation': 'relu', 'hidden_layer_sizes': (...</td>\n",
       "      <td>0.611570</td>\n",
       "      <td>0.648760</td>\n",
       "      <td>0.615702</td>\n",
       "      <td>0.625344</td>\n",
       "      <td>0.016643</td>\n",
       "      <td>3</td>\n",
       "    </tr>\n",
       "    <tr>\n",
       "      <td>10</td>\n",
       "      <td>0.885039</td>\n",
       "      <td>0.038067</td>\n",
       "      <td>0.005318</td>\n",
       "      <td>0.001371</td>\n",
       "      <td>tanh</td>\n",
       "      <td>100</td>\n",
       "      <td>5000</td>\n",
       "      <td>{'activation': 'tanh', 'hidden_layer_sizes': 1...</td>\n",
       "      <td>0.619835</td>\n",
       "      <td>0.615702</td>\n",
       "      <td>0.590909</td>\n",
       "      <td>0.608815</td>\n",
       "      <td>0.012774</td>\n",
       "      <td>4</td>\n",
       "    </tr>\n",
       "    <tr>\n",
       "      <td>12</td>\n",
       "      <td>0.811872</td>\n",
       "      <td>0.017865</td>\n",
       "      <td>0.004606</td>\n",
       "      <td>0.000536</td>\n",
       "      <td>relu</td>\n",
       "      <td>50</td>\n",
       "      <td>5000</td>\n",
       "      <td>{'activation': 'relu', 'hidden_layer_sizes': 5...</td>\n",
       "      <td>0.603306</td>\n",
       "      <td>0.615702</td>\n",
       "      <td>0.599174</td>\n",
       "      <td>0.606061</td>\n",
       "      <td>0.007023</td>\n",
       "      <td>5</td>\n",
       "    </tr>\n",
       "  </tbody>\n",
       "</table>\n",
       "</div>"
      ],
      "text/plain": [
       "    mean_fit_time  std_fit_time  mean_score_time  std_score_time  \\\n",
       "5        0.402147      0.512268         0.004247        0.000434   \n",
       "13       0.442692      0.029632         0.005595        0.000163   \n",
       "15       0.369120      0.029869         0.004821        0.000609   \n",
       "10       0.885039      0.038067         0.005318        0.001371   \n",
       "12       0.811872      0.017865         0.004606        0.000536   \n",
       "\n",
       "   param_activation param_hidden_layer_sizes param_max_iter  \\\n",
       "5          logistic                 (50, 50)           5000   \n",
       "13             relu                 (50, 50)           5000   \n",
       "15             relu               (100, 100)           5000   \n",
       "10             tanh                      100           5000   \n",
       "12             relu                       50           5000   \n",
       "\n",
       "                                               params  split0_test_score  \\\n",
       "5   {'activation': 'logistic', 'hidden_layer_sizes...           0.570248   \n",
       "13  {'activation': 'relu', 'hidden_layer_sizes': (...           0.586777   \n",
       "15  {'activation': 'relu', 'hidden_layer_sizes': (...           0.611570   \n",
       "10  {'activation': 'tanh', 'hidden_layer_sizes': 1...           0.619835   \n",
       "12  {'activation': 'relu', 'hidden_layer_sizes': 5...           0.603306   \n",
       "\n",
       "    split1_test_score  split2_test_score  mean_test_score  std_test_score  \\\n",
       "5            0.690083           0.698347         0.652893        0.058536   \n",
       "13           0.681818           0.673554         0.647383        0.042988   \n",
       "15           0.648760           0.615702         0.625344        0.016643   \n",
       "10           0.615702           0.590909         0.608815        0.012774   \n",
       "12           0.615702           0.599174         0.606061        0.007023   \n",
       "\n",
       "    rank_test_score  \n",
       "5                 1  \n",
       "13                2  \n",
       "15                3  \n",
       "10                4  \n",
       "12                5  "
      ]
     },
     "execution_count": 13,
     "metadata": {},
     "output_type": "execute_result"
    }
   ],
   "source": [
    "mlp_gs_results = pd.DataFrame(mlp_gs.cv_results_).sort_values(\"rank_test_score\")\n",
    "mlp_gs_results.head()"
   ]
  },
  {
   "cell_type": "code",
   "execution_count": 14,
   "metadata": {},
   "outputs": [
    {
     "data": {
      "text/plain": [
       "{'activation': 'logistic', 'hidden_layer_sizes': (50, 50), 'max_iter': 5000}"
      ]
     },
     "execution_count": 14,
     "metadata": {},
     "output_type": "execute_result"
    }
   ],
   "source": [
    "mlp_gs.best_params_"
   ]
  },
  {
   "cell_type": "markdown",
   "metadata": {},
   "source": [
    "## Conclusión"
   ]
  },
  {
   "cell_type": "markdown",
   "metadata": {},
   "source": [
    "Exploremos cómo se distribuye el rendimiento de nuestros modelos a lo largo de la búsqueda de hiperparámetros."
   ]
  },
  {
   "cell_type": "code",
   "execution_count": 15,
   "metadata": {},
   "outputs": [],
   "source": [
    "def plot_grid_search(results,title):\n",
    "    \"\"\"\n",
    "    Recibe un DataFrame de resultados de un grid search y un título.\n",
    "    Devuelve una visualización con boxplot de los resultados de la grid search\n",
    "    \"\"\"\n",
    "    scores = results.filter(regex=r\"split\\d_test_score\")\n",
    "    params = results.params\n",
    "    plt.boxplot(scores.values.transpose(),showmeans=True)\n",
    "    plt.title(title)\n",
    "    plt.show()"
   ]
  },
  {
   "cell_type": "code",
   "execution_count": 16,
   "metadata": {},
   "outputs": [
    {
     "data": {
      "image/png": "[encoded data removed]",
      "text/plain": [
       "<Figure size 432x288 with 1 Axes>"
      ]
     },
     "metadata": {
      "needs_background": "light"
     },
     "output_type": "display_data"
    }
   ],
   "source": [
    "plot_grid_search(mlp_gs_results,title=\"Multilayer Perceptron Grid-Search\")"
   ]
  },
  {
   "cell_type": "code",
   "execution_count": 17,
   "metadata": {},
   "outputs": [
    {
     "data": {
      "image/png": "[encoded data removed]",
      "text/plain": [
       "<Figure size 432x288 with 1 Axes>"
      ]
     },
     "metadata": {
      "needs_background": "light"
     },
     "output_type": "display_data"
    }
   ],
   "source": [
    "plot_grid_search(rf_gs_results,title=\"Random Forest Grid-Search\")"
   ]
  },
  {
   "cell_type": "code",
   "execution_count": null,
   "metadata": {},
   "outputs": [],
   "source": []
  }
 ],
 "metadata": {
  "kernelspec": {
   "display_name": "Python 3",
   "language": "python",
   "name": "python3"
  },
  "language_info": {
   "codemirror_mode": {
    "name": "ipython",
    "version": 3
   },
   "file_extension": ".py",
   "mimetype": "text/x-python",
   "name": "python",
   "nbconvert_exporter": "python",
   "pygments_lexer": "ipython3",
   "version": "3.7.4"
  }
 },
 "nbformat": 4,
 "nbformat_minor": 4
}
