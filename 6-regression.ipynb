{
 "cells": [
  {
   "cell_type": "markdown",
   "metadata": {},
   "source": [
    "# Regresión útilizando aprendizaje de máquinas"
   ]
  },
  {
   "cell_type": "markdown",
   "metadata": {},
   "source": [
    "En aprendizaje de máquinas, la regresión es la tarea de identificar a qué valor continuo una observación nueva pertenece, tomando como base un entrenamiento previo sobre un grupo de observaciones donde sí se conocían sus valores continuos correspondientes."
   ]
  },
  {
   "cell_type": "code",
   "execution_count": 1,
   "metadata": {},
   "outputs": [],
   "source": [
    "import numpy as np\n",
    "import pandas as pd\n",
    "import sklearn.preprocessing \n",
    "import sklearn.ensemble\n",
    "import sklearn.linear_model\n",
    "import sklearn.svm\n",
    "import sklearn.dummy\n",
    "import matplotlib.pyplot as plt\n",
    "import seaborn as sns # Paquete de visualización que funciona sobre matplotlib"
   ]
  },
  {
   "cell_type": "markdown",
   "metadata": {},
   "source": [
    "Para entrenar y probar los modelos de clasificación, utilizaremos un conjunto de datos que contiene valores de propiedades junto con características asociadas a las mismas."
   ]
  },
  {
   "cell_type": "code",
   "execution_count": 2,
   "metadata": {},
   "outputs": [],
   "source": [
    "real_estate = pd.read_csv(\"data/real_estate.csv\", delimiter=\";\")"
   ]
  },
  {
   "cell_type": "code",
   "execution_count": 3,
   "metadata": {},
   "outputs": [
    {
     "data": {
      "text/html": [
       "<div>\n",
       "<style scoped>\n",
       "    .dataframe tbody tr th:only-of-type {\n",
       "        vertical-align: middle;\n",
       "    }\n",
       "\n",
       "    .dataframe tbody tr th {\n",
       "        vertical-align: top;\n",
       "    }\n",
       "\n",
       "    .dataframe thead th {\n",
       "        text-align: right;\n",
       "    }\n",
       "</style>\n",
       "<table border=\"1\" class=\"dataframe\">\n",
       "  <thead>\n",
       "    <tr style=\"text-align: right;\">\n",
       "      <th></th>\n",
       "      <th>transaction_date</th>\n",
       "      <th>house_age</th>\n",
       "      <th>distance_nearest_station</th>\n",
       "      <th>number_convenience_stores</th>\n",
       "      <th>latitude</th>\n",
       "      <th>longitude</th>\n",
       "      <th>price_unit_area</th>\n",
       "    </tr>\n",
       "  </thead>\n",
       "  <tbody>\n",
       "    <tr>\n",
       "      <th>0</th>\n",
       "      <td>2012.916667</td>\n",
       "      <td>32.0</td>\n",
       "      <td>84.87882</td>\n",
       "      <td>10</td>\n",
       "      <td>24.98298</td>\n",
       "      <td>121.54024</td>\n",
       "      <td>37.9</td>\n",
       "    </tr>\n",
       "    <tr>\n",
       "      <th>1</th>\n",
       "      <td>2012.916667</td>\n",
       "      <td>19.5</td>\n",
       "      <td>306.59470</td>\n",
       "      <td>9</td>\n",
       "      <td>24.98034</td>\n",
       "      <td>121.53951</td>\n",
       "      <td>42.2</td>\n",
       "    </tr>\n",
       "    <tr>\n",
       "      <th>2</th>\n",
       "      <td>2013.583333</td>\n",
       "      <td>13.3</td>\n",
       "      <td>561.98450</td>\n",
       "      <td>5</td>\n",
       "      <td>24.98746</td>\n",
       "      <td>121.54391</td>\n",
       "      <td>47.3</td>\n",
       "    </tr>\n",
       "    <tr>\n",
       "      <th>3</th>\n",
       "      <td>2013.500000</td>\n",
       "      <td>13.3</td>\n",
       "      <td>561.98450</td>\n",
       "      <td>5</td>\n",
       "      <td>24.98746</td>\n",
       "      <td>121.54391</td>\n",
       "      <td>54.8</td>\n",
       "    </tr>\n",
       "    <tr>\n",
       "      <th>4</th>\n",
       "      <td>2012.833333</td>\n",
       "      <td>5.0</td>\n",
       "      <td>390.56840</td>\n",
       "      <td>5</td>\n",
       "      <td>24.97937</td>\n",
       "      <td>121.54245</td>\n",
       "      <td>43.1</td>\n",
       "    </tr>\n",
       "  </tbody>\n",
       "</table>\n",
       "</div>"
      ],
      "text/plain": [
       "   transaction_date  house_age  distance_nearest_station  \\\n",
       "0       2012.916667       32.0                  84.87882   \n",
       "1       2012.916667       19.5                 306.59470   \n",
       "2       2013.583333       13.3                 561.98450   \n",
       "3       2013.500000       13.3                 561.98450   \n",
       "4       2012.833333        5.0                 390.56840   \n",
       "\n",
       "   number_convenience_stores  latitude  longitude  price_unit_area  \n",
       "0                         10  24.98298  121.54024             37.9  \n",
       "1                          9  24.98034  121.53951             42.2  \n",
       "2                          5  24.98746  121.54391             47.3  \n",
       "3                          5  24.98746  121.54391             54.8  \n",
       "4                          5  24.97937  121.54245             43.1  "
      ]
     },
     "execution_count": 3,
     "metadata": {},
     "output_type": "execute_result"
    }
   ],
   "source": [
    "real_estate.head()"
   ]
  },
  {
   "cell_type": "markdown",
   "metadata": {},
   "source": [
    "Verificamos con el método pandas.DataFrame.describe() que las variables no tienen el mismo rango, por lo que seria necesario reescalarlas."
   ]
  },
  {
   "cell_type": "code",
   "execution_count": 4,
   "metadata": {},
   "outputs": [
    {
     "data": {
      "text/html": [
       "<div>\n",
       "<style scoped>\n",
       "    .dataframe tbody tr th:only-of-type {\n",
       "        vertical-align: middle;\n",
       "    }\n",
       "\n",
       "    .dataframe tbody tr th {\n",
       "        vertical-align: top;\n",
       "    }\n",
       "\n",
       "    .dataframe thead th {\n",
       "        text-align: right;\n",
       "    }\n",
       "</style>\n",
       "<table border=\"1\" class=\"dataframe\">\n",
       "  <thead>\n",
       "    <tr style=\"text-align: right;\">\n",
       "      <th></th>\n",
       "      <th>transaction_date</th>\n",
       "      <th>house_age</th>\n",
       "      <th>distance_nearest_station</th>\n",
       "      <th>number_convenience_stores</th>\n",
       "      <th>latitude</th>\n",
       "      <th>longitude</th>\n",
       "      <th>price_unit_area</th>\n",
       "    </tr>\n",
       "  </thead>\n",
       "  <tbody>\n",
       "    <tr>\n",
       "      <th>count</th>\n",
       "      <td>414.000000</td>\n",
       "      <td>414.000000</td>\n",
       "      <td>414.000000</td>\n",
       "      <td>414.000000</td>\n",
       "      <td>414.000000</td>\n",
       "      <td>414.000000</td>\n",
       "      <td>414.000000</td>\n",
       "    </tr>\n",
       "    <tr>\n",
       "      <th>mean</th>\n",
       "      <td>2013.148953</td>\n",
       "      <td>17.712560</td>\n",
       "      <td>1083.885689</td>\n",
       "      <td>4.094203</td>\n",
       "      <td>24.969030</td>\n",
       "      <td>121.533361</td>\n",
       "      <td>37.980193</td>\n",
       "    </tr>\n",
       "    <tr>\n",
       "      <th>std</th>\n",
       "      <td>0.281995</td>\n",
       "      <td>11.392485</td>\n",
       "      <td>1262.109595</td>\n",
       "      <td>2.945562</td>\n",
       "      <td>0.012410</td>\n",
       "      <td>0.015347</td>\n",
       "      <td>13.606488</td>\n",
       "    </tr>\n",
       "    <tr>\n",
       "      <th>min</th>\n",
       "      <td>2012.666667</td>\n",
       "      <td>0.000000</td>\n",
       "      <td>23.382840</td>\n",
       "      <td>0.000000</td>\n",
       "      <td>24.932070</td>\n",
       "      <td>121.473530</td>\n",
       "      <td>7.600000</td>\n",
       "    </tr>\n",
       "    <tr>\n",
       "      <th>25%</th>\n",
       "      <td>2012.916667</td>\n",
       "      <td>9.025000</td>\n",
       "      <td>289.324800</td>\n",
       "      <td>1.000000</td>\n",
       "      <td>24.963000</td>\n",
       "      <td>121.528085</td>\n",
       "      <td>27.700000</td>\n",
       "    </tr>\n",
       "    <tr>\n",
       "      <th>50%</th>\n",
       "      <td>2013.166667</td>\n",
       "      <td>16.100000</td>\n",
       "      <td>492.231300</td>\n",
       "      <td>4.000000</td>\n",
       "      <td>24.971100</td>\n",
       "      <td>121.538630</td>\n",
       "      <td>38.450000</td>\n",
       "    </tr>\n",
       "    <tr>\n",
       "      <th>75%</th>\n",
       "      <td>2013.416667</td>\n",
       "      <td>28.150000</td>\n",
       "      <td>1454.279000</td>\n",
       "      <td>6.000000</td>\n",
       "      <td>24.977455</td>\n",
       "      <td>121.543305</td>\n",
       "      <td>46.600000</td>\n",
       "    </tr>\n",
       "    <tr>\n",
       "      <th>max</th>\n",
       "      <td>2013.583333</td>\n",
       "      <td>43.800000</td>\n",
       "      <td>6488.021000</td>\n",
       "      <td>10.000000</td>\n",
       "      <td>25.014590</td>\n",
       "      <td>121.566270</td>\n",
       "      <td>117.500000</td>\n",
       "    </tr>\n",
       "  </tbody>\n",
       "</table>\n",
       "</div>"
      ],
      "text/plain": [
       "       transaction_date   house_age  distance_nearest_station  \\\n",
       "count        414.000000  414.000000                414.000000   \n",
       "mean        2013.148953   17.712560               1083.885689   \n",
       "std            0.281995   11.392485               1262.109595   \n",
       "min         2012.666667    0.000000                 23.382840   \n",
       "25%         2012.916667    9.025000                289.324800   \n",
       "50%         2013.166667   16.100000                492.231300   \n",
       "75%         2013.416667   28.150000               1454.279000   \n",
       "max         2013.583333   43.800000               6488.021000   \n",
       "\n",
       "       number_convenience_stores    latitude   longitude  price_unit_area  \n",
       "count                 414.000000  414.000000  414.000000       414.000000  \n",
       "mean                    4.094203   24.969030  121.533361        37.980193  \n",
       "std                     2.945562    0.012410    0.015347        13.606488  \n",
       "min                     0.000000   24.932070  121.473530         7.600000  \n",
       "25%                     1.000000   24.963000  121.528085        27.700000  \n",
       "50%                     4.000000   24.971100  121.538630        38.450000  \n",
       "75%                     6.000000   24.977455  121.543305        46.600000  \n",
       "max                    10.000000   25.014590  121.566270       117.500000  "
      ]
     },
     "execution_count": 4,
     "metadata": {},
     "output_type": "execute_result"
    }
   ],
   "source": [
    "real_estate.describe()"
   ]
  },
  {
   "cell_type": "code",
   "execution_count": 5,
   "metadata": {},
   "outputs": [
    {
     "data": {
      "text/plain": [
       "(414, 7)"
      ]
     },
     "execution_count": 5,
     "metadata": {},
     "output_type": "execute_result"
    }
   ],
   "source": [
    "real_estate.shape # Obtenemos las dimensiones de nuestro conjunto de datos."
   ]
  },
  {
   "cell_type": "markdown",
   "metadata": {},
   "source": [
    "Para obtener una intuición general de las relaciones que existen entre variables, una práctica habitual es evaluar la correlación que existe entre las variables, sobretodo la correlación que existe entre las características y la etiqueta. Para esto utilizamos indicadores de estadística clásica como es el coeficiente de correlación de Pearson o Spearman."
   ]
  },
  {
   "cell_type": "code",
   "execution_count": 6,
   "metadata": {},
   "outputs": [
    {
     "data": {
      "text/html": [
       "<div>\n",
       "<style scoped>\n",
       "    .dataframe tbody tr th:only-of-type {\n",
       "        vertical-align: middle;\n",
       "    }\n",
       "\n",
       "    .dataframe tbody tr th {\n",
       "        vertical-align: top;\n",
       "    }\n",
       "\n",
       "    .dataframe thead th {\n",
       "        text-align: right;\n",
       "    }\n",
       "</style>\n",
       "<table border=\"1\" class=\"dataframe\">\n",
       "  <thead>\n",
       "    <tr style=\"text-align: right;\">\n",
       "      <th></th>\n",
       "      <th>transaction_date</th>\n",
       "      <th>house_age</th>\n",
       "      <th>distance_nearest_station</th>\n",
       "      <th>number_convenience_stores</th>\n",
       "      <th>latitude</th>\n",
       "      <th>longitude</th>\n",
       "      <th>price_unit_area</th>\n",
       "    </tr>\n",
       "  </thead>\n",
       "  <tbody>\n",
       "    <tr>\n",
       "      <th>transaction_date</th>\n",
       "      <td>1.000000</td>\n",
       "      <td>0.017542</td>\n",
       "      <td>0.060880</td>\n",
       "      <td>0.009544</td>\n",
       "      <td>0.035016</td>\n",
       "      <td>-0.041065</td>\n",
       "      <td>0.087529</td>\n",
       "    </tr>\n",
       "    <tr>\n",
       "      <th>house_age</th>\n",
       "      <td>0.017542</td>\n",
       "      <td>1.000000</td>\n",
       "      <td>0.025622</td>\n",
       "      <td>0.049593</td>\n",
       "      <td>0.054420</td>\n",
       "      <td>-0.048520</td>\n",
       "      <td>-0.210567</td>\n",
       "    </tr>\n",
       "    <tr>\n",
       "      <th>distance_nearest_station</th>\n",
       "      <td>0.060880</td>\n",
       "      <td>0.025622</td>\n",
       "      <td>1.000000</td>\n",
       "      <td>-0.602519</td>\n",
       "      <td>-0.591067</td>\n",
       "      <td>-0.806317</td>\n",
       "      <td>-0.673613</td>\n",
       "    </tr>\n",
       "    <tr>\n",
       "      <th>number_convenience_stores</th>\n",
       "      <td>0.009544</td>\n",
       "      <td>0.049593</td>\n",
       "      <td>-0.602519</td>\n",
       "      <td>1.000000</td>\n",
       "      <td>0.444143</td>\n",
       "      <td>0.449099</td>\n",
       "      <td>0.571005</td>\n",
       "    </tr>\n",
       "    <tr>\n",
       "      <th>latitude</th>\n",
       "      <td>0.035016</td>\n",
       "      <td>0.054420</td>\n",
       "      <td>-0.591067</td>\n",
       "      <td>0.444143</td>\n",
       "      <td>1.000000</td>\n",
       "      <td>0.412924</td>\n",
       "      <td>0.546307</td>\n",
       "    </tr>\n",
       "    <tr>\n",
       "      <th>longitude</th>\n",
       "      <td>-0.041065</td>\n",
       "      <td>-0.048520</td>\n",
       "      <td>-0.806317</td>\n",
       "      <td>0.449099</td>\n",
       "      <td>0.412924</td>\n",
       "      <td>1.000000</td>\n",
       "      <td>0.523287</td>\n",
       "    </tr>\n",
       "    <tr>\n",
       "      <th>price_unit_area</th>\n",
       "      <td>0.087529</td>\n",
       "      <td>-0.210567</td>\n",
       "      <td>-0.673613</td>\n",
       "      <td>0.571005</td>\n",
       "      <td>0.546307</td>\n",
       "      <td>0.523287</td>\n",
       "      <td>1.000000</td>\n",
       "    </tr>\n",
       "  </tbody>\n",
       "</table>\n",
       "</div>"
      ],
      "text/plain": [
       "                           transaction_date  house_age  \\\n",
       "transaction_date                   1.000000   0.017542   \n",
       "house_age                          0.017542   1.000000   \n",
       "distance_nearest_station           0.060880   0.025622   \n",
       "number_convenience_stores          0.009544   0.049593   \n",
       "latitude                           0.035016   0.054420   \n",
       "longitude                         -0.041065  -0.048520   \n",
       "price_unit_area                    0.087529  -0.210567   \n",
       "\n",
       "                           distance_nearest_station  \\\n",
       "transaction_date                           0.060880   \n",
       "house_age                                  0.025622   \n",
       "distance_nearest_station                   1.000000   \n",
       "number_convenience_stores                 -0.602519   \n",
       "latitude                                  -0.591067   \n",
       "longitude                                 -0.806317   \n",
       "price_unit_area                           -0.673613   \n",
       "\n",
       "                           number_convenience_stores  latitude  longitude  \\\n",
       "transaction_date                            0.009544  0.035016  -0.041065   \n",
       "house_age                                   0.049593  0.054420  -0.048520   \n",
       "distance_nearest_station                   -0.602519 -0.591067  -0.806317   \n",
       "number_convenience_stores                   1.000000  0.444143   0.449099   \n",
       "latitude                                    0.444143  1.000000   0.412924   \n",
       "longitude                                   0.449099  0.412924   1.000000   \n",
       "price_unit_area                             0.571005  0.546307   0.523287   \n",
       "\n",
       "                           price_unit_area  \n",
       "transaction_date                  0.087529  \n",
       "house_age                        -0.210567  \n",
       "distance_nearest_station         -0.673613  \n",
       "number_convenience_stores         0.571005  \n",
       "latitude                          0.546307  \n",
       "longitude                         0.523287  \n",
       "price_unit_area                   1.000000  "
      ]
     },
     "execution_count": 6,
     "metadata": {},
     "output_type": "execute_result"
    }
   ],
   "source": [
    "correlation = real_estate.corr() # Por defecto este método calcula la correlación de Pearson.\n",
    "correlation"
   ]
  },
  {
   "cell_type": "code",
   "execution_count": 7,
   "metadata": {},
   "outputs": [
    {
     "data": {
      "text/plain": [
       "<AxesSubplot:>"
      ]
     },
     "execution_count": 7,
     "metadata": {},
     "output_type": "execute_result"
    },
    {
     "data": {
      "image/png": "[encoded data removed]",
      "text/plain": [
       "<Figure size 432x288 with 2 Axes>"
      ]
     },
     "metadata": {
      "needs_background": "light"
     },
     "output_type": "display_data"
    }
   ],
   "source": [
    "sns.heatmap(\n",
    "    correlation,\n",
    "    cmap=\"RdYlGn\" # Utilizamos una paleta de colores divergente para visualizar diferencias en los valores positivos y negativos\n",
    ") # Utilizamos seaborn para visualizar un mapa de calor de las correlaciones."
   ]
  },
  {
   "cell_type": "markdown",
   "metadata": {},
   "source": [
    "## Preprocesamiento"
   ]
  },
  {
   "cell_type": "code",
   "execution_count": 8,
   "metadata": {},
   "outputs": [],
   "source": [
    "feature_names = [\n",
    "    'transaction_date', \n",
    "    'house_age', \n",
    "    'distance_nearest_station', \n",
    "    'number_convenience_stores', \n",
    "    'latitude', \n",
    "    'longitude'\n",
    "]\n",
    "\n",
    "features = real_estate[feature_names]"
   ]
  },
  {
   "cell_type": "code",
   "execution_count": 9,
   "metadata": {},
   "outputs": [],
   "source": [
    "label = real_estate.price_unit_area"
   ]
  },
  {
   "cell_type": "markdown",
   "metadata": {},
   "source": [
    "Los algoritmos para entrenar modelos de aprendizaje de máquinas no se comportan bien en su mayoría con diferencias en los rangos de valores de sus características, por lo que es siempre una buena práctica reescalar los valores hacia un rango predeterminado."
   ]
  },
  {
   "cell_type": "code",
   "execution_count": 10,
   "metadata": {},
   "outputs": [],
   "source": [
    "scaler = sklearn.preprocessing.MinMaxScaler() # Instanciamos la clase del scaler que realizará una normalización de los datos\n",
    "features = scaler.fit_transform(features) # Ajustamos el scaler y al mismo tiempo transformamos nuestras características"
   ]
  },
  {
   "cell_type": "markdown",
   "metadata": {},
   "source": [
    "Verificamos que el rango de todas nuestras características ahora esté entre 0 y 1."
   ]
  },
  {
   "cell_type": "code",
   "execution_count": 11,
   "metadata": {},
   "outputs": [
    {
     "data": {
      "text/html": [
       "<div>\n",
       "<style scoped>\n",
       "    .dataframe tbody tr th:only-of-type {\n",
       "        vertical-align: middle;\n",
       "    }\n",
       "\n",
       "    .dataframe tbody tr th {\n",
       "        vertical-align: top;\n",
       "    }\n",
       "\n",
       "    .dataframe thead th {\n",
       "        text-align: right;\n",
       "    }\n",
       "</style>\n",
       "<table border=\"1\" class=\"dataframe\">\n",
       "  <thead>\n",
       "    <tr style=\"text-align: right;\">\n",
       "      <th></th>\n",
       "      <th>transaction_date</th>\n",
       "      <th>house_age</th>\n",
       "      <th>distance_nearest_station</th>\n",
       "      <th>number_convenience_stores</th>\n",
       "      <th>latitude</th>\n",
       "      <th>longitude</th>\n",
       "    </tr>\n",
       "  </thead>\n",
       "  <tbody>\n",
       "    <tr>\n",
       "      <th>count</th>\n",
       "      <td>414.000000</td>\n",
       "      <td>414.000000</td>\n",
       "      <td>414.000000</td>\n",
       "      <td>414.000000</td>\n",
       "      <td>414.000000</td>\n",
       "      <td>414.000000</td>\n",
       "    </tr>\n",
       "    <tr>\n",
       "      <th>mean</th>\n",
       "      <td>0.526131</td>\n",
       "      <td>0.404396</td>\n",
       "      <td>0.164047</td>\n",
       "      <td>0.409420</td>\n",
       "      <td>0.447892</td>\n",
       "      <td>0.645149</td>\n",
       "    </tr>\n",
       "    <tr>\n",
       "      <th>std</th>\n",
       "      <td>0.307631</td>\n",
       "      <td>0.260102</td>\n",
       "      <td>0.195233</td>\n",
       "      <td>0.294556</td>\n",
       "      <td>0.150390</td>\n",
       "      <td>0.165486</td>\n",
       "    </tr>\n",
       "    <tr>\n",
       "      <th>min</th>\n",
       "      <td>0.000000</td>\n",
       "      <td>0.000000</td>\n",
       "      <td>0.000000</td>\n",
       "      <td>0.000000</td>\n",
       "      <td>0.000000</td>\n",
       "      <td>0.000000</td>\n",
       "    </tr>\n",
       "    <tr>\n",
       "      <th>25%</th>\n",
       "      <td>0.272727</td>\n",
       "      <td>0.206050</td>\n",
       "      <td>0.041138</td>\n",
       "      <td>0.100000</td>\n",
       "      <td>0.374818</td>\n",
       "      <td>0.588257</td>\n",
       "    </tr>\n",
       "    <tr>\n",
       "      <th>50%</th>\n",
       "      <td>0.545455</td>\n",
       "      <td>0.367580</td>\n",
       "      <td>0.072525</td>\n",
       "      <td>0.400000</td>\n",
       "      <td>0.472976</td>\n",
       "      <td>0.701962</td>\n",
       "    </tr>\n",
       "    <tr>\n",
       "      <th>75%</th>\n",
       "      <td>0.818182</td>\n",
       "      <td>0.642694</td>\n",
       "      <td>0.221342</td>\n",
       "      <td>0.600000</td>\n",
       "      <td>0.549988</td>\n",
       "      <td>0.752372</td>\n",
       "    </tr>\n",
       "    <tr>\n",
       "      <th>max</th>\n",
       "      <td>1.000000</td>\n",
       "      <td>1.000000</td>\n",
       "      <td>1.000000</td>\n",
       "      <td>1.000000</td>\n",
       "      <td>1.000000</td>\n",
       "      <td>1.000000</td>\n",
       "    </tr>\n",
       "  </tbody>\n",
       "</table>\n",
       "</div>"
      ],
      "text/plain": [
       "       transaction_date   house_age  distance_nearest_station  \\\n",
       "count        414.000000  414.000000                414.000000   \n",
       "mean           0.526131    0.404396                  0.164047   \n",
       "std            0.307631    0.260102                  0.195233   \n",
       "min            0.000000    0.000000                  0.000000   \n",
       "25%            0.272727    0.206050                  0.041138   \n",
       "50%            0.545455    0.367580                  0.072525   \n",
       "75%            0.818182    0.642694                  0.221342   \n",
       "max            1.000000    1.000000                  1.000000   \n",
       "\n",
       "       number_convenience_stores    latitude   longitude  \n",
       "count                 414.000000  414.000000  414.000000  \n",
       "mean                    0.409420    0.447892    0.645149  \n",
       "std                     0.294556    0.150390    0.165486  \n",
       "min                     0.000000    0.000000    0.000000  \n",
       "25%                     0.100000    0.374818    0.588257  \n",
       "50%                     0.400000    0.472976    0.701962  \n",
       "75%                     0.600000    0.549988    0.752372  \n",
       "max                     1.000000    1.000000    1.000000  "
      ]
     },
     "execution_count": 11,
     "metadata": {},
     "output_type": "execute_result"
    }
   ],
   "source": [
    "pd.DataFrame(features,columns=feature_names).describe()"
   ]
  },
  {
   "cell_type": "code",
   "execution_count": 12,
   "metadata": {},
   "outputs": [],
   "source": [
    "features_train, features_test, label_train, label_test = sklearn.model_selection.train_test_split( \n",
    "    features,\n",
    "    label,\n",
    "    test_size=0.30, \n",
    "    random_state = 11, \n",
    ")"
   ]
  },
  {
   "cell_type": "code",
   "execution_count": 13,
   "metadata": {},
   "outputs": [
    {
     "data": {
      "text/plain": [
       "LinearRegression()"
      ]
     },
     "execution_count": 13,
     "metadata": {},
     "output_type": "execute_result"
    }
   ],
   "source": [
    "lr = sklearn.linear_model.LinearRegression()\n",
    "lr.fit(features_train, label_train) "
   ]
  },
  {
   "cell_type": "code",
   "execution_count": 14,
   "metadata": {},
   "outputs": [],
   "source": [
    "lr_predictions = lr.predict(features_test)"
   ]
  },
  {
   "cell_type": "code",
   "execution_count": 15,
   "metadata": {},
   "outputs": [
    {
     "data": {
      "text/plain": [
       "DummyRegressor()"
      ]
     },
     "execution_count": 15,
     "metadata": {},
     "output_type": "execute_result"
    }
   ],
   "source": [
    "dummy = sklearn.dummy.DummyRegressor()\n",
    "dummy.fit(features_train, label_train)"
   ]
  },
  {
   "cell_type": "code",
   "execution_count": 16,
   "metadata": {},
   "outputs": [],
   "source": [
    "dummy_predictions = dummy.predict(features_test)"
   ]
  },
  {
   "cell_type": "markdown",
   "metadata": {},
   "source": [
    "## Mean absolute error\n",
    "\n",
    "El error absoluto medio es el promedio de los errores que cometió el modelor respecto a las etiquetas verdaderas del conjunto de prueba y se define como:\n",
    "\n",
    "$$\n",
    "\\mathrm{MAE} = \\frac{\\sum_{i=1}^n\\left| y_i - \\hat{y_i}\\right|}{n}\n",
    "$$\n",
    "\n",
    "donde $y_i$ son las etiquetas verdaderas y \\hat{y_i} son las etiquetas predichas por el modelo."
   ]
  },
  {
   "cell_type": "code",
   "execution_count": 17,
   "metadata": {},
   "outputs": [],
   "source": [
    "def mae(true, predicted):\n",
    "    error = true-predicted\n",
    "    absolute_error = np.abs(error)\n",
    "    return absolute_error.mean()"
   ]
  },
  {
   "cell_type": "code",
   "execution_count": 18,
   "metadata": {},
   "outputs": [
    {
     "data": {
      "text/plain": [
       "7.098167201942669"
      ]
     },
     "execution_count": 18,
     "metadata": {},
     "output_type": "execute_result"
    }
   ],
   "source": [
    "mae(label_test,lr_predictions)"
   ]
  },
  {
   "cell_type": "code",
   "execution_count": 19,
   "metadata": {},
   "outputs": [
    {
     "data": {
      "text/plain": [
       "12.224824913494809"
      ]
     },
     "execution_count": 19,
     "metadata": {},
     "output_type": "execute_result"
    }
   ],
   "source": [
    "mae(label_test,dummy_predictions)"
   ]
  },
  {
   "cell_type": "markdown",
   "metadata": {},
   "source": [
    "## Root mean squared error\n",
    "\n",
    "La raíz del error cuadrádico medio es la raíz promedio de los errores cuadráticos que cometió el modelor respecto a las etiquetas verdaderas del conjunto de prueba. Este error penaliza con mayor importancia los errores más grandes que comerió el modelo y se define como:\n",
    "\n",
    "$$\n",
    "\\mathrm{RMSE} = \\sqrt{\\frac{\\sum_{i=1}^n\\left( y_i - \\hat{y_i}\\right)^2}{n}}\n",
    "$$"
   ]
  },
  {
   "cell_type": "code",
   "execution_count": 20,
   "metadata": {},
   "outputs": [],
   "source": [
    "def rmse(true, predicted):\n",
    "    error = true-predicted\n",
    "    squared_error = error**2\n",
    "    return (squared_error.mean())**0.5"
   ]
  },
  {
   "cell_type": "code",
   "execution_count": 21,
   "metadata": {},
   "outputs": [
    {
     "data": {
      "text/plain": [
       "11.154714425923629"
      ]
     },
     "execution_count": 21,
     "metadata": {},
     "output_type": "execute_result"
    }
   ],
   "source": [
    "rmse(label_test,lr_predictions)"
   ]
  },
  {
   "cell_type": "code",
   "execution_count": 22,
   "metadata": {},
   "outputs": [
    {
     "data": {
      "text/plain": [
       "15.84202098213816"
      ]
     },
     "execution_count": 22,
     "metadata": {},
     "output_type": "execute_result"
    }
   ],
   "source": [
    "rmse(label_test,dummy_predictions)"
   ]
  },
  {
   "cell_type": "markdown",
   "metadata": {},
   "source": [
    "## $R^2$\n",
    "\n",
    "El coeficiente de determinación es la proporción de la varianza en la variable dependiente que pudo predecir el modelo y se define como:\n",
    "\n",
    "Si $\\bar{y}$ es el promedio de los datos verdaderos:\n",
    "\n",
    "$$\n",
    "\\bar{y}=\\frac{1}{n}\\sum_{i=1}^n y_i ,\n",
    "$$\n",
    "\n",
    "la suma de los cuadrados de los errores es\n",
    "\n",
    "$$\n",
    "SS_\\text{res}=\\sum_i (y_i - \\hat{y})^2,\n",
    "$$\n",
    "\n",
    "la suma de los cuadrados del conjunto de datos\n",
    "\n",
    "$$\n",
    "SS_\\text{tot}=\\sum_i (y_i - \\bar{y})^2,\n",
    "$$\n",
    "\n",
    "entonces \n",
    "\n",
    "$$\n",
    "R^2 = 1 - {SS_{\\rm res}\\over SS_{\\rm tot}}\n",
    "$$"
   ]
  },
  {
   "cell_type": "code",
   "execution_count": 23,
   "metadata": {},
   "outputs": [],
   "source": [
    "def r2(true, predicted):\n",
    "    residual = true - predicted\n",
    "    residual_variance = (residual ** 2).mean()\n",
    "    true_variance = np.var(true) \n",
    "    return 1 - (residual_variance / true_variance)"
   ]
  },
  {
   "cell_type": "code",
   "execution_count": 24,
   "metadata": {},
   "outputs": [
    {
     "data": {
      "text/plain": [
       "0.5040618675072945"
      ]
     },
     "execution_count": 24,
     "metadata": {},
     "output_type": "execute_result"
    }
   ],
   "source": [
    "r2(label_test,lr_predictions)"
   ]
  },
  {
   "cell_type": "code",
   "execution_count": 25,
   "metadata": {},
   "outputs": [
    {
     "data": {
      "text/plain": [
       "-0.00030343009467026505"
      ]
     },
     "execution_count": 25,
     "metadata": {},
     "output_type": "execute_result"
    }
   ],
   "source": [
    "r2(label_test,dummy_predictions)"
   ]
  },
  {
   "cell_type": "code",
   "execution_count": 26,
   "metadata": {},
   "outputs": [],
   "source": [
    "def regression_report(y_true, y_pred):\n",
    "    \"\"\"\n",
    "    Esta función recibe un arreglo de valores reales y predichos para \n",
    "    retornar un diccionario con una serie de métricas de regresión\n",
    "    \"\"\"\n",
    "    return {\n",
    "        'mae': sklearn.metrics.mean_absolute_error(y_true, y_pred),\n",
    "        'rmse': sklearn.metrics.mean_squared_error(y_true, y_pred) ** 0.5,\n",
    "        'r2': sklearn.metrics.r2_score(y_true, y_pred)\n",
    "    }"
   ]
  },
  {
   "cell_type": "code",
   "execution_count": 27,
   "metadata": {},
   "outputs": [
    {
     "data": {
      "text/plain": [
       "{'mae': 7.098167201942669,\n",
       " 'rmse': 11.154714425923629,\n",
       " 'r2': 0.5040618675072945}"
      ]
     },
     "execution_count": 27,
     "metadata": {},
     "output_type": "execute_result"
    }
   ],
   "source": [
    "lr_regression_report = regression_report(label_test, lr_predictions)\n",
    "lr_regression_report"
   ]
  },
  {
   "cell_type": "code",
   "execution_count": 28,
   "metadata": {},
   "outputs": [
    {
     "data": {
      "text/plain": [
       "{'mae': 12.224824913494809,\n",
       " 'rmse': 15.84202098213816,\n",
       " 'r2': -0.000303430094670043}"
      ]
     },
     "execution_count": 28,
     "metadata": {},
     "output_type": "execute_result"
    }
   ],
   "source": [
    "dummy_regression_report = regression_report(label_test, dummy_predictions)\n",
    "dummy_regression_report"
   ]
  },
  {
   "cell_type": "markdown",
   "metadata": {},
   "source": [
    "## Modelamiento"
   ]
  },
  {
   "cell_type": "markdown",
   "metadata": {},
   "source": [
    "Para evaluar el rendimiento de nuestro modelos sobre el conjunto de prueba debemos utilizar métricas distintas a las que usábamos en clasificación. sklearn nos ofrece una serie de métricas especificas para regresión, las cuales se encuentran todas descritas en la documentación https://scikit-learn.org/stable/modules/model_evaluation.html ."
   ]
  },
  {
   "cell_type": "markdown",
   "metadata": {},
   "source": [
    "### Support vector machine"
   ]
  },
  {
   "cell_type": "code",
   "execution_count": 29,
   "metadata": {},
   "outputs": [
    {
     "data": {
      "text/plain": [
       "SVR()"
      ]
     },
     "execution_count": 29,
     "metadata": {},
     "output_type": "execute_result"
    }
   ],
   "source": [
    "svm = sklearn.svm.SVR() # Instanciamos una support vector machine con un kernel lineal\n",
    "svm.fit(features_train, label_train)"
   ]
  },
  {
   "cell_type": "code",
   "execution_count": 30,
   "metadata": {},
   "outputs": [],
   "source": [
    "svm_predictions = svm.predict(features_test)"
   ]
  },
  {
   "cell_type": "code",
   "execution_count": 31,
   "metadata": {},
   "outputs": [
    {
     "data": {
      "text/plain": [
       "{'mae': 7.621752619669024,\n",
       " 'rmse': 11.983341762779201,\n",
       " 'r2': 0.4276436826303148}"
      ]
     },
     "execution_count": 31,
     "metadata": {},
     "output_type": "execute_result"
    }
   ],
   "source": [
    "svm_regression_report = regression_report(label_test, svm_predictions)\n",
    "svm_regression_report"
   ]
  },
  {
   "cell_type": "markdown",
   "metadata": {},
   "source": [
    "### Random forests"
   ]
  },
  {
   "cell_type": "code",
   "execution_count": 32,
   "metadata": {},
   "outputs": [
    {
     "data": {
      "text/plain": [
       "RandomForestRegressor()"
      ]
     },
     "execution_count": 32,
     "metadata": {},
     "output_type": "execute_result"
    }
   ],
   "source": [
    "rf = sklearn.ensemble.RandomForestRegressor()\n",
    "rf.fit(features_train, label_train)"
   ]
  },
  {
   "cell_type": "code",
   "execution_count": 33,
   "metadata": {},
   "outputs": [],
   "source": [
    "rf_predictions = rf.predict(features_test)"
   ]
  },
  {
   "cell_type": "code",
   "execution_count": 34,
   "metadata": {},
   "outputs": [
    {
     "data": {
      "text/plain": [
       "{'mae': 5.0294818095238085,\n",
       " 'rmse': 9.814362996604775,\n",
       " 'r2': 0.6160852275260273}"
      ]
     },
     "execution_count": 34,
     "metadata": {},
     "output_type": "execute_result"
    }
   ],
   "source": [
    "rf_regression_report = regression_report(label_test, rf_predictions)\n",
    "rf_regression_report"
   ]
  },
  {
   "cell_type": "markdown",
   "metadata": {},
   "source": [
    "## Resumen"
   ]
  },
  {
   "cell_type": "markdown",
   "metadata": {},
   "source": [
    "Evaluemos cuál fue el modelo que tuvo el mejor rendimiento en cada una de las métricas."
   ]
  },
  {
   "cell_type": "code",
   "execution_count": 35,
   "metadata": {},
   "outputs": [
    {
     "data": {
      "text/html": [
       "<div>\n",
       "<style scoped>\n",
       "    .dataframe tbody tr th:only-of-type {\n",
       "        vertical-align: middle;\n",
       "    }\n",
       "\n",
       "    .dataframe tbody tr th {\n",
       "        vertical-align: top;\n",
       "    }\n",
       "\n",
       "    .dataframe thead th {\n",
       "        text-align: right;\n",
       "    }\n",
       "</style>\n",
       "<table border=\"1\" class=\"dataframe\">\n",
       "  <thead>\n",
       "    <tr style=\"text-align: right;\">\n",
       "      <th></th>\n",
       "      <th>mae</th>\n",
       "      <th>rmse</th>\n",
       "      <th>r2</th>\n",
       "    </tr>\n",
       "  </thead>\n",
       "  <tbody>\n",
       "    <tr>\n",
       "      <th>Random Forest</th>\n",
       "      <td>5.029482</td>\n",
       "      <td>9.814363</td>\n",
       "      <td>0.616085</td>\n",
       "    </tr>\n",
       "    <tr>\n",
       "      <th>Linear Regression</th>\n",
       "      <td>7.098167</td>\n",
       "      <td>11.154714</td>\n",
       "      <td>0.504062</td>\n",
       "    </tr>\n",
       "    <tr>\n",
       "      <th>Support Vector Machine</th>\n",
       "      <td>7.621753</td>\n",
       "      <td>11.983342</td>\n",
       "      <td>0.427644</td>\n",
       "    </tr>\n",
       "    <tr>\n",
       "      <th>Regresor Tonto</th>\n",
       "      <td>12.224825</td>\n",
       "      <td>15.842021</td>\n",
       "      <td>-0.000303</td>\n",
       "    </tr>\n",
       "  </tbody>\n",
       "</table>\n",
       "</div>"
      ],
      "text/plain": [
       "                              mae       rmse        r2\n",
       "Random Forest            5.029482   9.814363  0.616085\n",
       "Linear Regression        7.098167  11.154714  0.504062\n",
       "Support Vector Machine   7.621753  11.983342  0.427644\n",
       "Regresor Tonto          12.224825  15.842021 -0.000303"
      ]
     },
     "execution_count": 35,
     "metadata": {},
     "output_type": "execute_result"
    }
   ],
   "source": [
    "performances = pd.DataFrame( # Consolidamos todas las métricas en un DatFrame\n",
    "    data = [\n",
    "        lr_regression_report,\n",
    "        svm_regression_report,\n",
    "        rf_regression_report,\n",
    "        dummy_regression_report\n",
    "    ],\n",
    "    index = [\n",
    "        \"Linear Regression\",\n",
    "        \"Support Vector Machine\",\n",
    "        \"Random Forest\",\n",
    "        \"Regresor Tonto\"\n",
    "    ]\n",
    ").sort_values( # Ordenamos los valores\n",
    "    by=\"rmse\"\n",
    ")\n",
    "performances"
   ]
  },
  {
   "cell_type": "code",
   "execution_count": 36,
   "metadata": {},
   "outputs": [
    {
     "data": {
      "text/plain": [
       "([0, 1, 2, 3],\n",
       " [Text(0, 0, ''), Text(0, 0, ''), Text(0, 0, ''), Text(0, 0, '')])"
      ]
     },
     "execution_count": 36,
     "metadata": {},
     "output_type": "execute_result"
    },
    {
     "data": {
      "image/png": "[encoded data removed]",
      "text/plain": [
       "<Figure size 432x288 with 1 Axes>"
      ]
     },
     "metadata": {
      "needs_background": "light"
     },
     "output_type": "display_data"
    }
   ],
   "source": [
    "plt.bar( # Visualizamos los resultados como un gráfico de barras\n",
    "    x=performances.index,\n",
    "    height=performances.mae,\n",
    ")\n",
    "plt.title(\"Mean Absolute Error\")\n",
    "plt.xlabel(\"Model\")\n",
    "plt.ylabel(\"Value\")\n",
    "plt.xticks(rotation=45)"
   ]
  },
  {
   "cell_type": "code",
   "execution_count": 37,
   "metadata": {},
   "outputs": [
    {
     "data": {
      "text/plain": [
       "([0, 1, 2, 3],\n",
       " [Text(0, 0, ''), Text(0, 0, ''), Text(0, 0, ''), Text(0, 0, '')])"
      ]
     },
     "execution_count": 37,
     "metadata": {},
     "output_type": "execute_result"
    },
    {
     "data": {
      "image/png": "[encoded data removed]",
      "text/plain": [
       "<Figure size 432x288 with 1 Axes>"
      ]
     },
     "metadata": {
      "needs_background": "light"
     },
     "output_type": "display_data"
    }
   ],
   "source": [
    "plt.bar(\n",
    "    x=performances.index,\n",
    "    height=performances.rmse,\n",
    ")\n",
    "plt.title(\"Root Mean Squared Error\")\n",
    "plt.xlabel(\"Model\")\n",
    "plt.ylabel(\"Value\")\n",
    "plt.xticks(rotation=45)"
   ]
  },
  {
   "cell_type": "code",
   "execution_count": 38,
   "metadata": {},
   "outputs": [
    {
     "data": {
      "text/plain": [
       "([0, 1, 2, 3],\n",
       " [Text(0, 0, ''), Text(0, 0, ''), Text(0, 0, ''), Text(0, 0, '')])"
      ]
     },
     "execution_count": 38,
     "metadata": {},
     "output_type": "execute_result"
    },
    {
     "data": {
      "image/png": "[encoded data removed]",
      "text/plain": [
       "<Figure size 432x288 with 1 Axes>"
      ]
     },
     "metadata": {
      "needs_background": "light"
     },
     "output_type": "display_data"
    }
   ],
   "source": [
    "plt.bar(\n",
    "    x=performances.index,\n",
    "    height=performances.r2,\n",
    ")\n",
    "plt.title(\"R$^2$\")\n",
    "plt.xlabel(\"Model\")\n",
    "plt.ylabel(\"Value\")\n",
    "plt.xticks(rotation=45)"
   ]
  },
  {
   "cell_type": "code",
   "execution_count": null,
   "metadata": {},
   "outputs": [],
   "source": []
  }
 ],
 "metadata": {
  "kernelspec": {
   "display_name": "Python 3 (ipykernel)",
   "language": "python",
   "name": "python3"
  },
  "language_info": {
   "codemirror_mode": {
    "name": "ipython",
    "version": 3
   },
   "file_extension": ".py",
   "mimetype": "text/x-python",
   "name": "python",
   "nbconvert_exporter": "python",
   "pygments_lexer": "ipython3",
   "version": "3.7.6"
  }
 },
 "nbformat": 4,
 "nbformat_minor": 4
}
